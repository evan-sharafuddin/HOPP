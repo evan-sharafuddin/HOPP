{
 "cells": [
  {
   "cell_type": "markdown",
   "metadata": {},
   "source": [
    "# GSPE Example File\n",
    "This notebook runs HOPP and applies the correct power electronics efficency factors established in the Green Steel Power Electronics (GSPE) simulator\n",
    "\n",
    "NOTE: all of the economic analysis will use the efficency factors that are default in PySAM/set in HOPP. The goal of this script is to solely return a power time series with teh correct efficency factors."
   ]
  },
  {
   "cell_type": "code",
   "execution_count": null,
   "metadata": {},
   "outputs": [],
   "source": [
    "from hopp.simulation import HoppInterface\n",
    "import numpy as np\n",
    "\n",
    "hi = HoppInterface(\"./inputs/08-GSPE.yaml\")\n",
    "hi.simulate(30)\n",
    "\n",
    "\n",
    "\n",
    "print(\"simulation complete\")"
   ]
  },
  {
   "cell_type": "markdown",
   "metadata": {},
   "source": [
    "## Work on implementing new power electronic efficencies according to the GSPE code\n",
    "\n",
    "1) revert efficency factors applied in HOPP"
   ]
  },
  {
   "cell_type": "code",
   "execution_count": null,
   "metadata": {},
   "outputs": [],
   "source": [
    "with hi.hopp.system.technologies['wind'] as wp:\n",
    "    if wp.model_name == 'floris':\n",
    "        DEFAULT_PYSAM_LOSSES = 12.83\n",
    "        wp.system_model.gen = wp.system_model.gen * ((100 - DEFAULT_PYSAM_LOSSES)/100) ** -1 # revert PySAM default losses\n",
    "        wp.system_model.annual_energy = np.sum(wp.system_model.gen)\n",
    "        wp.system_model.capacity_factor = np.sum(wp.system_model.gen) / (8760 * wp.system_model.system_capacity) * 100\n",
    "\n",
    "    else: # wp.config.model_name == 'pysam'\n",
    "        non_wake_losses = 0\n",
    "        pysam_losses_dict = wp._system_model.export()\n",
    "        relevant_losses = ['avail_bop_loss', 'avail_grid_loss', 'avail_turb_loss', 'elec_eff_loss', 'elec_parasitic_loss', \n",
    "                           'env_degrad_loss', 'env_env_loss', 'env_exposure_loss', 'env_icing_loss', 'ops_env_loss', \n",
    "                           'ops_grid_loss', 'ops_load_loss', 'ops_strategies_loss']\n",
    "        \n",
    "        for losses in relevant_losses:\n",
    "            non_wake_losses += pysam_losses_dict[losses]\n",
    "        \n",
    "        wp.system_model.gen = wp.system_model.gen * ((100 - non_wake_losses)/100) ** -1 \n",
    "        wp.system_model.annual_energy = np.sum(wp.system_model.gen)\n",
    "        wp.system_model.capacity_factor = np.sum(wp.system_model.gen) / (8760 * wp.system_model.system_capacity) * 100"
   ]
  },
  {
   "cell_type": "markdown",
   "metadata": {},
   "source": [
    "2) calculate losses according to GSPE code"
   ]
  },
  {
   "cell_type": "code",
   "execution_count": null,
   "metadata": {},
   "outputs": [],
   "source": [
    "eff = {'back_to_back': 0.9604,\n",
    "       'diode_based_rectifier': 0.96,\n",
    "       'thyristor_based_rectifier': 0.992,\n",
    "       'IGBT_based_inverter': 0.98,\n",
    "       'bi_DCDC_converter': 0.985,\n",
    "       'uni_DCDC_converter': 0.985,\n",
    "       'transformer_up': 0.99,\n",
    "       'transformer_down': 0.99,\n",
    "       'rectifier_power_factor': 0.89,\n",
    "       'transformer_power_factor': 0.85,\n",
    "       }\n",
    "\n",
    "solar = False # TODO\n",
    "battery = False # TODO\n",
    "# TODO instead of \"gutting\" the code, could package the file and then use as module\n",
    "DFIG_DC_1_eff = eff['transformer_up'] * eff['transformer_down'] * eff['diode_based_rectifier'] * 100\n",
    "\n",
    "if solar:\n",
    "       pass\n",
    "\n",
    "if battery:\n",
    "       pass\n",
    "\n",
    "\n",
    "# DFIG_DC_2_eff = (1 - ((1 - eff['back_to_back']) / 3)) * eff['transformer_up'] * \\\n",
    "#                eff['diode_based_rectifier'] * eff['uni_DCDC_converter'] * 100\n",
    "\n",
    "# seems to be same efficency for both cfgs\n",
    "\n",
    "# TODO apply the above efficency to the powers in the HI\n",
    "# TODO this is done after the hopp simulaiton is complete, meaning any \n",
    "# costs assoicated with the power generation are going to have to be recalculated...\n",
    "# not sure if there is a better way of doing this without completely changing HOPP\n",
    "\n"
   ]
  }
 ],
 "metadata": {
  "kernelspec": {
   "display_name": "hopp",
   "language": "python",
   "name": "python3"
  },
  "language_info": {
   "codemirror_mode": {
    "name": "ipython",
    "version": 3
   },
   "file_extension": ".py",
   "mimetype": "text/x-python",
   "name": "python",
   "nbconvert_exporter": "python",
   "pygments_lexer": "ipython3",
   "version": "3.8.15"
  }
 },
 "nbformat": 4,
 "nbformat_minor": 2
}
