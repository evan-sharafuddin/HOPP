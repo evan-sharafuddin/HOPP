{
 "cells": [
  {
   "cell_type": "markdown",
   "metadata": {},
   "source": [
    "# GSPE Example File\n",
    "This notebook runs HOPP and applies the correct power electronics efficency factors established in the Green Steel Power Electronics (GSPE) simulator\n",
    "\n",
    "NOTE: all of the economic analysis will use the efficency factors that are default in PySAM/set in HOPP. The goal of this script is to solely return a power time series with teh correct efficency factors."
   ]
  },
  {
   "cell_type": "code",
   "execution_count": 1,
   "metadata": {},
   "outputs": [
    {
     "name": "stdout",
     "output_type": "stream",
     "text": [
      "/Users/esharafu/Dev/HOPP/examples/log/hybrid_systems_2024-02-08T15.48.29.010271.log\n"
     ]
    },
    {
     "ename": "KeyboardInterrupt",
     "evalue": "",
     "output_type": "error",
     "traceback": [
      "\u001b[0;31m---------------------------------------------------------------------------\u001b[0m",
      "\u001b[0;31mKeyboardInterrupt\u001b[0m                         Traceback (most recent call last)",
      "\u001b[1;32m/Users/esharafu/Dev/HOPP/examples/08-GSPE.ipynb Cell 2\u001b[0m line \u001b[0;36m1\n\u001b[0;32m----> <a href='vscode-notebook-cell:/Users/esharafu/Dev/HOPP/examples/08-GSPE.ipynb#W1sZmlsZQ%3D%3D?line=0'>1</a>\u001b[0m \u001b[39mfrom\u001b[39;00m \u001b[39mhopp\u001b[39;00m\u001b[39m.\u001b[39;00m\u001b[39msimulation\u001b[39;00m \u001b[39mimport\u001b[39;00m HoppInterface\n\u001b[1;32m      <a href='vscode-notebook-cell:/Users/esharafu/Dev/HOPP/examples/08-GSPE.ipynb#W1sZmlsZQ%3D%3D?line=1'>2</a>\u001b[0m \u001b[39mimport\u001b[39;00m \u001b[39mnumpy\u001b[39;00m \u001b[39mas\u001b[39;00m \u001b[39mnp\u001b[39;00m\n\u001b[1;32m      <a href='vscode-notebook-cell:/Users/esharafu/Dev/HOPP/examples/08-GSPE.ipynb#W1sZmlsZQ%3D%3D?line=3'>4</a>\u001b[0m hi \u001b[39m=\u001b[39m HoppInterface(\u001b[39m\"\u001b[39m\u001b[39m./inputs/08-GSPE.yaml\u001b[39m\u001b[39m\"\u001b[39m)\n",
      "File \u001b[0;32m~/Dev/HOPP/hopp/simulation/__init__.py:1\u001b[0m\n\u001b[0;32m----> 1\u001b[0m \u001b[39mfrom\u001b[39;00m \u001b[39mhopp\u001b[39;00m\u001b[39m.\u001b[39;00m\u001b[39msimulation\u001b[39;00m\u001b[39m.\u001b[39;00m\u001b[39mhopp_interface\u001b[39;00m \u001b[39mimport\u001b[39;00m HoppInterface\n",
      "File \u001b[0;32m~/Dev/HOPP/hopp/simulation/hopp_interface.py:5\u001b[0m\n\u001b[1;32m      2\u001b[0m \u001b[39mfrom\u001b[39;00m \u001b[39mpathlib\u001b[39;00m \u001b[39mimport\u001b[39;00m Path\n\u001b[1;32m      3\u001b[0m \u001b[39mfrom\u001b[39;00m \u001b[39mtyping\u001b[39;00m \u001b[39mimport\u001b[39;00m Union, TYPE_CHECKING\n\u001b[0;32m----> 5\u001b[0m \u001b[39mfrom\u001b[39;00m \u001b[39mhopp\u001b[39;00m\u001b[39m.\u001b[39;00m\u001b[39msimulation\u001b[39;00m\u001b[39m.\u001b[39;00m\u001b[39mhopp\u001b[39;00m \u001b[39mimport\u001b[39;00m Hopp\n\u001b[1;32m      7\u001b[0m \u001b[39m# avoid potential circular dep\u001b[39;00m\n\u001b[1;32m      8\u001b[0m \u001b[39mif\u001b[39;00m TYPE_CHECKING:\n",
      "File \u001b[0;32m~/Dev/HOPP/hopp/simulation/hopp.py:8\u001b[0m\n\u001b[1;32m      5\u001b[0m \u001b[39mfrom\u001b[39;00m \u001b[39mtyping\u001b[39;00m \u001b[39mimport\u001b[39;00m Optional, Union\n\u001b[1;32m      7\u001b[0m \u001b[39mfrom\u001b[39;00m \u001b[39mhopp\u001b[39;00m\u001b[39m.\u001b[39;00m\u001b[39msimulation\u001b[39;00m\u001b[39m.\u001b[39;00m\u001b[39mbase\u001b[39;00m \u001b[39mimport\u001b[39;00m BaseClass\n\u001b[0;32m----> 8\u001b[0m \u001b[39mfrom\u001b[39;00m \u001b[39mhopp\u001b[39;00m\u001b[39m.\u001b[39;00m\u001b[39msimulation\u001b[39;00m\u001b[39m.\u001b[39;00m\u001b[39mhybrid_simulation\u001b[39;00m \u001b[39mimport\u001b[39;00m HybridSimulation, TechnologiesConfig\n\u001b[1;32m      9\u001b[0m \u001b[39mfrom\u001b[39;00m \u001b[39mhopp\u001b[39;00m\u001b[39m.\u001b[39;00m\u001b[39msimulation\u001b[39;00m\u001b[39m.\u001b[39;00m\u001b[39mtechnologies\u001b[39;00m\u001b[39m.\u001b[39;00m\u001b[39msites\u001b[39;00m \u001b[39mimport\u001b[39;00m SiteInfo\n\u001b[1;32m     10\u001b[0m \u001b[39mfrom\u001b[39;00m \u001b[39mhopp\u001b[39;00m\u001b[39m.\u001b[39;00m\u001b[39mutilities\u001b[39;00m \u001b[39mimport\u001b[39;00m load_yaml\n",
      "File \u001b[0;32m~/Dev/HOPP/hopp/simulation/hybrid_simulation.py:11\u001b[0m\n\u001b[1;32m      8\u001b[0m \u001b[39mfrom\u001b[39;00m \u001b[39mattrs\u001b[39;00m \u001b[39mimport\u001b[39;00m field, define\n\u001b[1;32m     10\u001b[0m \u001b[39mfrom\u001b[39;00m \u001b[39mhopp\u001b[39;00m\u001b[39m.\u001b[39;00m\u001b[39mtools\u001b[39;00m\u001b[39m.\u001b[39;00m\u001b[39manalysis\u001b[39;00m \u001b[39mimport\u001b[39;00m create_cost_calculator\n\u001b[0;32m---> 11\u001b[0m \u001b[39mfrom\u001b[39;00m \u001b[39mhopp\u001b[39;00m\u001b[39m.\u001b[39;00m\u001b[39msimulation\u001b[39;00m\u001b[39m.\u001b[39;00m\u001b[39mtechnologies\u001b[39;00m\u001b[39m.\u001b[39;00m\u001b[39msites\u001b[39;00m\u001b[39m.\u001b[39;00m\u001b[39msite_info\u001b[39;00m \u001b[39mimport\u001b[39;00m SiteInfo\n\u001b[1;32m     12\u001b[0m \u001b[39mfrom\u001b[39;00m \u001b[39mhopp\u001b[39;00m\u001b[39m.\u001b[39;00m\u001b[39msimulation\u001b[39;00m\u001b[39m.\u001b[39;00m\u001b[39mtechnologies\u001b[39;00m\u001b[39m.\u001b[39;00m\u001b[39mpv\u001b[39;00m\u001b[39m.\u001b[39;00m\u001b[39mpv_plant\u001b[39;00m \u001b[39mimport\u001b[39;00m PVPlant, PVConfig\n\u001b[1;32m     13\u001b[0m \u001b[39mfrom\u001b[39;00m \u001b[39mhopp\u001b[39;00m\u001b[39m.\u001b[39;00m\u001b[39msimulation\u001b[39;00m\u001b[39m.\u001b[39;00m\u001b[39mtechnologies\u001b[39;00m\u001b[39m.\u001b[39;00m\u001b[39mpv\u001b[39;00m\u001b[39m.\u001b[39;00m\u001b[39mdetailed_pv_plant\u001b[39;00m \u001b[39mimport\u001b[39;00m DetailedPVPlant, DetailedPVConfig\n",
      "File \u001b[0;32m~/Dev/HOPP/hopp/simulation/technologies/__init__.py:8\u001b[0m\n\u001b[1;32m      6\u001b[0m \u001b[39mfrom\u001b[39;00m \u001b[39mhopp\u001b[39;00m\u001b[39m.\u001b[39;00m\u001b[39msimulation\u001b[39;00m\u001b[39m.\u001b[39;00m\u001b[39mtechnologies\u001b[39;00m\u001b[39m.\u001b[39;00m\u001b[39mpower_source\u001b[39;00m \u001b[39mimport\u001b[39;00m PowerSource\n\u001b[1;32m      7\u001b[0m \u001b[39mfrom\u001b[39;00m \u001b[39mhopp\u001b[39;00m\u001b[39m.\u001b[39;00m\u001b[39msimulation\u001b[39;00m\u001b[39m.\u001b[39;00m\u001b[39mtechnologies\u001b[39;00m\u001b[39m.\u001b[39;00m\u001b[39mpv\u001b[39;00m\u001b[39m.\u001b[39;00m\u001b[39mpv_plant\u001b[39;00m \u001b[39mimport\u001b[39;00m PVPlant\n\u001b[0;32m----> 8\u001b[0m \u001b[39mfrom\u001b[39;00m \u001b[39mhopp\u001b[39;00m\u001b[39m.\u001b[39;00m\u001b[39msimulation\u001b[39;00m\u001b[39m.\u001b[39;00m\u001b[39mtechnologies\u001b[39;00m\u001b[39m.\u001b[39;00m\u001b[39mreopt\u001b[39;00m \u001b[39mimport\u001b[39;00m REopt\n\u001b[1;32m      9\u001b[0m \u001b[39mfrom\u001b[39;00m \u001b[39mhopp\u001b[39;00m\u001b[39m.\u001b[39;00m\u001b[39msimulation\u001b[39;00m\u001b[39m.\u001b[39;00m\u001b[39mtechnologies\u001b[39;00m\u001b[39m.\u001b[39;00m\u001b[39mcsp\u001b[39;00m\u001b[39m.\u001b[39;00m\u001b[39mtower_plant\u001b[39;00m \u001b[39mimport\u001b[39;00m TowerPlant\n\u001b[1;32m     10\u001b[0m \u001b[39mfrom\u001b[39;00m \u001b[39mhopp\u001b[39;00m\u001b[39m.\u001b[39;00m\u001b[39msimulation\u001b[39;00m\u001b[39m.\u001b[39;00m\u001b[39mtechnologies\u001b[39;00m\u001b[39m.\u001b[39;00m\u001b[39mcsp\u001b[39;00m\u001b[39m.\u001b[39;00m\u001b[39mtrough_plant\u001b[39;00m \u001b[39mimport\u001b[39;00m TroughPlant\n",
      "File \u001b[0;32m~/Dev/HOPP/hopp/simulation/technologies/reopt.py:13\u001b[0m\n\u001b[1;32m     10\u001b[0m \u001b[39mfrom\u001b[39;00m \u001b[39mtyping\u001b[39;00m \u001b[39mimport\u001b[39;00m Sequence\n\u001b[1;32m     12\u001b[0m \u001b[39mfrom\u001b[39;00m \u001b[39mhopp\u001b[39;00m\u001b[39m.\u001b[39;00m\u001b[39msimulation\u001b[39;00m\u001b[39m.\u001b[39;00m\u001b[39mtechnologies\u001b[39;00m\u001b[39m.\u001b[39;00m\u001b[39mpv\u001b[39;00m\u001b[39m.\u001b[39;00m\u001b[39mpv_plant\u001b[39;00m \u001b[39mimport\u001b[39;00m PVPlant\n\u001b[0;32m---> 13\u001b[0m \u001b[39mfrom\u001b[39;00m \u001b[39mhopp\u001b[39;00m\u001b[39m.\u001b[39;00m\u001b[39msimulation\u001b[39;00m\u001b[39m.\u001b[39;00m\u001b[39mtechnologies\u001b[39;00m\u001b[39m.\u001b[39;00m\u001b[39mwind\u001b[39;00m\u001b[39m.\u001b[39;00m\u001b[39mwind_plant\u001b[39;00m \u001b[39mimport\u001b[39;00m WindPlant\n\u001b[1;32m     14\u001b[0m \u001b[39mfrom\u001b[39;00m \u001b[39mhopp\u001b[39;00m\u001b[39m.\u001b[39;00m\u001b[39msimulation\u001b[39;00m\u001b[39m.\u001b[39;00m\u001b[39mtechnologies\u001b[39;00m\u001b[39m.\u001b[39;00m\u001b[39mbattery\u001b[39;00m \u001b[39mimport\u001b[39;00m Battery\n\u001b[1;32m     15\u001b[0m \u001b[39mfrom\u001b[39;00m \u001b[39mhopp\u001b[39;00m\u001b[39m.\u001b[39;00m\u001b[39mutilities\u001b[39;00m\u001b[39m.\u001b[39;00m\u001b[39mlog\u001b[39;00m \u001b[39mimport\u001b[39;00m hybrid_logger \u001b[39mas\u001b[39;00m logger\n",
      "File \u001b[0;32m~/Dev/HOPP/hopp/simulation/technologies/wind/__init__.py:2\u001b[0m\n\u001b[1;32m      1\u001b[0m \u001b[39mfrom\u001b[39;00m \u001b[39m.\u001b[39;00m\u001b[39mfloris\u001b[39;00m \u001b[39mimport\u001b[39;00m Floris\n\u001b[0;32m----> 2\u001b[0m \u001b[39mfrom\u001b[39;00m \u001b[39m.\u001b[39;00m\u001b[39mwind_plant\u001b[39;00m \u001b[39mimport\u001b[39;00m WindPlant, WindConfig\n",
      "File \u001b[0;32m~/Dev/HOPP/hopp/simulation/technologies/wind/wind_plant.py:14\u001b[0m\n\u001b[1;32m     12\u001b[0m \u001b[39mfrom\u001b[39;00m \u001b[39mhopp\u001b[39;00m\u001b[39m.\u001b[39;00m\u001b[39mutilities\u001b[39;00m\u001b[39m.\u001b[39;00m\u001b[39mvalidators\u001b[39;00m \u001b[39mimport\u001b[39;00m gt_zero, contains\n\u001b[1;32m     13\u001b[0m \u001b[39mfrom\u001b[39;00m \u001b[39mhopp\u001b[39;00m\u001b[39m.\u001b[39;00m\u001b[39msimulation\u001b[39;00m\u001b[39m.\u001b[39;00m\u001b[39mtechnologies\u001b[39;00m\u001b[39m.\u001b[39;00m\u001b[39mwind\u001b[39;00m\u001b[39m.\u001b[39;00m\u001b[39mfloris\u001b[39;00m \u001b[39mimport\u001b[39;00m Floris\n\u001b[0;32m---> 14\u001b[0m \u001b[39mfrom\u001b[39;00m \u001b[39mhopp\u001b[39;00m\u001b[39m.\u001b[39;00m\u001b[39msimulation\u001b[39;00m\u001b[39m.\u001b[39;00m\u001b[39mtechnologies\u001b[39;00m\u001b[39m.\u001b[39;00m\u001b[39mwind\u001b[39;00m\u001b[39m.\u001b[39;00m\u001b[39mwpgnn_for_hopp\u001b[39;00m \u001b[39mimport\u001b[39;00m WPGNNForHOPP\n\u001b[1;32m     15\u001b[0m \u001b[39mfrom\u001b[39;00m \u001b[39mhopp\u001b[39;00m\u001b[39m.\u001b[39;00m\u001b[39msimulation\u001b[39;00m\u001b[39m.\u001b[39;00m\u001b[39mtechnologies\u001b[39;00m\u001b[39m.\u001b[39;00m\u001b[39mwind\u001b[39;00m\u001b[39m.\u001b[39;00m\u001b[39mwpgnn_for_opt\u001b[39;00m \u001b[39mimport\u001b[39;00m WPGNNForOpt\n\u001b[1;32m     16\u001b[0m \u001b[39mfrom\u001b[39;00m \u001b[39mhopp\u001b[39;00m\u001b[39m.\u001b[39;00m\u001b[39msimulation\u001b[39;00m\u001b[39m.\u001b[39;00m\u001b[39mtechnologies\u001b[39;00m\u001b[39m.\u001b[39;00m\u001b[39mpower_source\u001b[39;00m \u001b[39mimport\u001b[39;00m PowerSource\n",
      "File \u001b[0;32m~/Dev/HOPP/hopp/simulation/technologies/wind/wpgnn_for_hopp.py:21\u001b[0m\n\u001b[1;32m     18\u001b[0m \u001b[39mfrom\u001b[39;00m \u001b[39mhopp\u001b[39;00m\u001b[39m.\u001b[39;00m\u001b[39msimulation\u001b[39;00m\u001b[39m.\u001b[39;00m\u001b[39mtechnologies\u001b[39;00m\u001b[39m.\u001b[39;00m\u001b[39msites\u001b[39;00m \u001b[39mimport\u001b[39;00m SiteInfo\n\u001b[1;32m     19\u001b[0m \u001b[39mfrom\u001b[39;00m \u001b[39mhopp\u001b[39;00m\u001b[39m.\u001b[39;00m\u001b[39mtype_dec\u001b[39;00m \u001b[39mimport\u001b[39;00m resource_file_converter\n\u001b[0;32m---> 21\u001b[0m \u001b[39mfrom\u001b[39;00m \u001b[39mwpgnn\u001b[39;00m\u001b[39m.\u001b[39;00m\u001b[39mwpgnn\u001b[39;00m \u001b[39mimport\u001b[39;00m WPGNN\n\u001b[1;32m     22\u001b[0m \u001b[39mfrom\u001b[39;00m \u001b[39mwpgnn\u001b[39;00m\u001b[39m.\u001b[39;00m\u001b[39mplaygen\u001b[39;00m \u001b[39mimport\u001b[39;00m PLayGen\n\u001b[1;32m     23\u001b[0m \u001b[39mfrom\u001b[39;00m \u001b[39mwpgnn\u001b[39;00m \u001b[39mimport\u001b[39;00m utils\n",
      "File \u001b[0;32m/opt/anaconda3/envs/hopp/lib/python3.8/site-packages/wpgnn/wpgnn.py:5\u001b[0m\n\u001b[1;32m      3\u001b[0m \u001b[39mimport\u001b[39;00m \u001b[39mnumpy\u001b[39;00m \u001b[39mas\u001b[39;00m \u001b[39mnp\u001b[39;00m\n\u001b[1;32m      4\u001b[0m \u001b[39mfrom\u001b[39;00m \u001b[39mtime\u001b[39;00m \u001b[39mimport\u001b[39;00m time\n\u001b[0;32m----> 5\u001b[0m \u001b[39mimport\u001b[39;00m \u001b[39mtensorflow\u001b[39;00m \u001b[39mas\u001b[39;00m \u001b[39mtf\u001b[39;00m\n\u001b[1;32m      6\u001b[0m \u001b[39mimport\u001b[39;00m \u001b[39msonnet\u001b[39;00m \u001b[39mas\u001b[39;00m \u001b[39msnt\u001b[39;00m\n\u001b[1;32m      7\u001b[0m \u001b[39mfrom\u001b[39;00m \u001b[39mgraph_nets\u001b[39;00m \u001b[39mimport\u001b[39;00m blocks\n",
      "File \u001b[0;32m/opt/anaconda3/envs/hopp/lib/python3.8/site-packages/tensorflow/__init__.py:41\u001b[0m\n\u001b[1;32m     38\u001b[0m \u001b[39mimport\u001b[39;00m \u001b[39msix\u001b[39;00m \u001b[39mas\u001b[39;00m \u001b[39m_six\u001b[39;00m\n\u001b[1;32m     39\u001b[0m \u001b[39mimport\u001b[39;00m \u001b[39msys\u001b[39;00m \u001b[39mas\u001b[39;00m \u001b[39m_sys\u001b[39;00m\n\u001b[0;32m---> 41\u001b[0m \u001b[39mfrom\u001b[39;00m \u001b[39mtensorflow\u001b[39;00m\u001b[39m.\u001b[39;00m\u001b[39mpython\u001b[39;00m\u001b[39m.\u001b[39;00m\u001b[39mtools\u001b[39;00m \u001b[39mimport\u001b[39;00m module_util \u001b[39mas\u001b[39;00m _module_util\n\u001b[1;32m     42\u001b[0m \u001b[39mfrom\u001b[39;00m \u001b[39mtensorflow\u001b[39;00m\u001b[39m.\u001b[39;00m\u001b[39mpython\u001b[39;00m\u001b[39m.\u001b[39;00m\u001b[39mutil\u001b[39;00m\u001b[39m.\u001b[39;00m\u001b[39mlazy_loader\u001b[39;00m \u001b[39mimport\u001b[39;00m LazyLoader \u001b[39mas\u001b[39;00m _LazyLoader\n\u001b[1;32m     44\u001b[0m \u001b[39m# Make sure code inside the TensorFlow codebase can use tf2.enabled() at import.\u001b[39;00m\n",
      "File \u001b[0;32m/opt/anaconda3/envs/hopp/lib/python3.8/site-packages/tensorflow/python/__init__.py:46\u001b[0m\n\u001b[1;32m     41\u001b[0m \u001b[39mfrom\u001b[39;00m \u001b[39mtensorflow\u001b[39;00m\u001b[39m.\u001b[39;00m\u001b[39mpython\u001b[39;00m\u001b[39m.\u001b[39;00m\u001b[39meager\u001b[39;00m \u001b[39mimport\u001b[39;00m context\n\u001b[1;32m     43\u001b[0m \u001b[39m# pylint: enable=wildcard-import\u001b[39;00m\n\u001b[1;32m     44\u001b[0m \n\u001b[1;32m     45\u001b[0m \u001b[39m# Bring in subpackages.\u001b[39;00m\n\u001b[0;32m---> 46\u001b[0m \u001b[39mfrom\u001b[39;00m \u001b[39mtensorflow\u001b[39;00m\u001b[39m.\u001b[39;00m\u001b[39mpython\u001b[39;00m \u001b[39mimport\u001b[39;00m data\n\u001b[1;32m     47\u001b[0m \u001b[39mfrom\u001b[39;00m \u001b[39mtensorflow\u001b[39;00m\u001b[39m.\u001b[39;00m\u001b[39mpython\u001b[39;00m \u001b[39mimport\u001b[39;00m distribute\n\u001b[1;32m     48\u001b[0m \u001b[39m# from tensorflow.python import keras\u001b[39;00m\n",
      "File \u001b[0;32m/opt/anaconda3/envs/hopp/lib/python3.8/site-packages/tensorflow/python/data/__init__.py:25\u001b[0m\n\u001b[1;32m     22\u001b[0m \u001b[39mfrom\u001b[39;00m \u001b[39m__future__\u001b[39;00m \u001b[39mimport\u001b[39;00m print_function\n\u001b[1;32m     24\u001b[0m \u001b[39m# pylint: disable=unused-import\u001b[39;00m\n\u001b[0;32m---> 25\u001b[0m \u001b[39mfrom\u001b[39;00m \u001b[39mtensorflow\u001b[39;00m\u001b[39m.\u001b[39;00m\u001b[39mpython\u001b[39;00m\u001b[39m.\u001b[39;00m\u001b[39mdata\u001b[39;00m \u001b[39mimport\u001b[39;00m experimental\n\u001b[1;32m     26\u001b[0m \u001b[39mfrom\u001b[39;00m \u001b[39mtensorflow\u001b[39;00m\u001b[39m.\u001b[39;00m\u001b[39mpython\u001b[39;00m\u001b[39m.\u001b[39;00m\u001b[39mdata\u001b[39;00m\u001b[39m.\u001b[39;00m\u001b[39mops\u001b[39;00m\u001b[39m.\u001b[39;00m\u001b[39mdataset_ops\u001b[39;00m \u001b[39mimport\u001b[39;00m AUTOTUNE\n\u001b[1;32m     27\u001b[0m \u001b[39mfrom\u001b[39;00m \u001b[39mtensorflow\u001b[39;00m\u001b[39m.\u001b[39;00m\u001b[39mpython\u001b[39;00m\u001b[39m.\u001b[39;00m\u001b[39mdata\u001b[39;00m\u001b[39m.\u001b[39;00m\u001b[39mops\u001b[39;00m\u001b[39m.\u001b[39;00m\u001b[39mdataset_ops\u001b[39;00m \u001b[39mimport\u001b[39;00m Dataset\n",
      "File \u001b[0;32m/opt/anaconda3/envs/hopp/lib/python3.8/site-packages/tensorflow/python/data/experimental/__init__.py:98\u001b[0m\n\u001b[1;32m     95\u001b[0m \u001b[39mfrom\u001b[39;00m \u001b[39m__future__\u001b[39;00m \u001b[39mimport\u001b[39;00m print_function\n\u001b[1;32m     97\u001b[0m \u001b[39m# pylint: disable=unused-import\u001b[39;00m\n\u001b[0;32m---> 98\u001b[0m \u001b[39mfrom\u001b[39;00m \u001b[39mtensorflow\u001b[39;00m\u001b[39m.\u001b[39;00m\u001b[39mpython\u001b[39;00m\u001b[39m.\u001b[39;00m\u001b[39mdata\u001b[39;00m\u001b[39m.\u001b[39;00m\u001b[39mexperimental\u001b[39;00m \u001b[39mimport\u001b[39;00m service\n\u001b[1;32m     99\u001b[0m \u001b[39mfrom\u001b[39;00m \u001b[39mtensorflow\u001b[39;00m\u001b[39m.\u001b[39;00m\u001b[39mpython\u001b[39;00m\u001b[39m.\u001b[39;00m\u001b[39mdata\u001b[39;00m\u001b[39m.\u001b[39;00m\u001b[39mexperimental\u001b[39;00m\u001b[39m.\u001b[39;00m\u001b[39mops\u001b[39;00m\u001b[39m.\u001b[39;00m\u001b[39mbatching\u001b[39;00m \u001b[39mimport\u001b[39;00m dense_to_ragged_batch\n\u001b[1;32m    100\u001b[0m \u001b[39mfrom\u001b[39;00m \u001b[39mtensorflow\u001b[39;00m\u001b[39m.\u001b[39;00m\u001b[39mpython\u001b[39;00m\u001b[39m.\u001b[39;00m\u001b[39mdata\u001b[39;00m\u001b[39m.\u001b[39;00m\u001b[39mexperimental\u001b[39;00m\u001b[39m.\u001b[39;00m\u001b[39mops\u001b[39;00m\u001b[39m.\u001b[39;00m\u001b[39mbatching\u001b[39;00m \u001b[39mimport\u001b[39;00m dense_to_sparse_batch\n",
      "File \u001b[0;32m/opt/anaconda3/envs/hopp/lib/python3.8/site-packages/tensorflow/python/data/experimental/service/__init__.py:374\u001b[0m\n\u001b[1;32m    371\u001b[0m \u001b[39mfrom\u001b[39;00m \u001b[39m__future__\u001b[39;00m \u001b[39mimport\u001b[39;00m division\n\u001b[1;32m    372\u001b[0m \u001b[39mfrom\u001b[39;00m \u001b[39m__future__\u001b[39;00m \u001b[39mimport\u001b[39;00m print_function\n\u001b[0;32m--> 374\u001b[0m \u001b[39mfrom\u001b[39;00m \u001b[39mtensorflow\u001b[39;00m\u001b[39m.\u001b[39;00m\u001b[39mpython\u001b[39;00m\u001b[39m.\u001b[39;00m\u001b[39mdata\u001b[39;00m\u001b[39m.\u001b[39;00m\u001b[39mexperimental\u001b[39;00m\u001b[39m.\u001b[39;00m\u001b[39mops\u001b[39;00m\u001b[39m.\u001b[39;00m\u001b[39mdata_service_ops\u001b[39;00m \u001b[39mimport\u001b[39;00m distribute\n\u001b[1;32m    375\u001b[0m \u001b[39mfrom\u001b[39;00m \u001b[39mtensorflow\u001b[39;00m\u001b[39m.\u001b[39;00m\u001b[39mpython\u001b[39;00m\u001b[39m.\u001b[39;00m\u001b[39mdata\u001b[39;00m\u001b[39m.\u001b[39;00m\u001b[39mexperimental\u001b[39;00m\u001b[39m.\u001b[39;00m\u001b[39mops\u001b[39;00m\u001b[39m.\u001b[39;00m\u001b[39mdata_service_ops\u001b[39;00m \u001b[39mimport\u001b[39;00m from_dataset_id\n\u001b[1;32m    376\u001b[0m \u001b[39mfrom\u001b[39;00m \u001b[39mtensorflow\u001b[39;00m\u001b[39m.\u001b[39;00m\u001b[39mpython\u001b[39;00m\u001b[39m.\u001b[39;00m\u001b[39mdata\u001b[39;00m\u001b[39m.\u001b[39;00m\u001b[39mexperimental\u001b[39;00m\u001b[39m.\u001b[39;00m\u001b[39mops\u001b[39;00m\u001b[39m.\u001b[39;00m\u001b[39mdata_service_ops\u001b[39;00m \u001b[39mimport\u001b[39;00m register_dataset\n",
      "File \u001b[0;32m/opt/anaconda3/envs/hopp/lib/python3.8/site-packages/tensorflow/python/data/experimental/ops/data_service_ops.py:27\u001b[0m\n\u001b[1;32m     25\u001b[0m \u001b[39mfrom\u001b[39;00m \u001b[39mtensorflow\u001b[39;00m\u001b[39m.\u001b[39;00m\u001b[39mpython\u001b[39;00m \u001b[39mimport\u001b[39;00m tf2\n\u001b[1;32m     26\u001b[0m \u001b[39mfrom\u001b[39;00m \u001b[39mtensorflow\u001b[39;00m\u001b[39m.\u001b[39;00m\u001b[39mpython\u001b[39;00m\u001b[39m.\u001b[39;00m\u001b[39mcompat\u001b[39;00m \u001b[39mimport\u001b[39;00m compat\n\u001b[0;32m---> 27\u001b[0m \u001b[39mfrom\u001b[39;00m \u001b[39mtensorflow\u001b[39;00m\u001b[39m.\u001b[39;00m\u001b[39mpython\u001b[39;00m\u001b[39m.\u001b[39;00m\u001b[39mdata\u001b[39;00m\u001b[39m.\u001b[39;00m\u001b[39mexperimental\u001b[39;00m\u001b[39m.\u001b[39;00m\u001b[39mops\u001b[39;00m \u001b[39mimport\u001b[39;00m compression_ops\n\u001b[1;32m     28\u001b[0m \u001b[39mfrom\u001b[39;00m \u001b[39mtensorflow\u001b[39;00m\u001b[39m.\u001b[39;00m\u001b[39mpython\u001b[39;00m\u001b[39m.\u001b[39;00m\u001b[39mdata\u001b[39;00m\u001b[39m.\u001b[39;00m\u001b[39mexperimental\u001b[39;00m\u001b[39m.\u001b[39;00m\u001b[39mservice\u001b[39;00m \u001b[39mimport\u001b[39;00m _pywrap_server_lib\n\u001b[1;32m     29\u001b[0m \u001b[39mfrom\u001b[39;00m \u001b[39mtensorflow\u001b[39;00m\u001b[39m.\u001b[39;00m\u001b[39mpython\u001b[39;00m\u001b[39m.\u001b[39;00m\u001b[39mdata\u001b[39;00m\u001b[39m.\u001b[39;00m\u001b[39mexperimental\u001b[39;00m\u001b[39m.\u001b[39;00m\u001b[39mservice\u001b[39;00m \u001b[39mimport\u001b[39;00m _pywrap_utils\n",
      "File \u001b[0;32m/opt/anaconda3/envs/hopp/lib/python3.8/site-packages/tensorflow/python/data/experimental/ops/compression_ops.py:20\u001b[0m\n\u001b[1;32m     17\u001b[0m \u001b[39mfrom\u001b[39;00m \u001b[39m__future__\u001b[39;00m \u001b[39mimport\u001b[39;00m division\n\u001b[1;32m     18\u001b[0m \u001b[39mfrom\u001b[39;00m \u001b[39m__future__\u001b[39;00m \u001b[39mimport\u001b[39;00m print_function\n\u001b[0;32m---> 20\u001b[0m \u001b[39mfrom\u001b[39;00m \u001b[39mtensorflow\u001b[39;00m\u001b[39m.\u001b[39;00m\u001b[39mpython\u001b[39;00m\u001b[39m.\u001b[39;00m\u001b[39mdata\u001b[39;00m\u001b[39m.\u001b[39;00m\u001b[39mutil\u001b[39;00m \u001b[39mimport\u001b[39;00m structure\n\u001b[1;32m     21\u001b[0m \u001b[39mfrom\u001b[39;00m \u001b[39mtensorflow\u001b[39;00m\u001b[39m.\u001b[39;00m\u001b[39mpython\u001b[39;00m\u001b[39m.\u001b[39;00m\u001b[39mops\u001b[39;00m \u001b[39mimport\u001b[39;00m gen_experimental_dataset_ops \u001b[39mas\u001b[39;00m ged_ops\n\u001b[1;32m     24\u001b[0m \u001b[39mdef\u001b[39;00m \u001b[39mcompress\u001b[39m(element):\n",
      "File \u001b[0;32m/opt/anaconda3/envs/hopp/lib/python3.8/site-packages/tensorflow/python/data/util/structure.py:34\u001b[0m\n\u001b[1;32m     32\u001b[0m \u001b[39mfrom\u001b[39;00m \u001b[39mtensorflow\u001b[39;00m\u001b[39m.\u001b[39;00m\u001b[39mpython\u001b[39;00m\u001b[39m.\u001b[39;00m\u001b[39mframework\u001b[39;00m \u001b[39mimport\u001b[39;00m type_spec\n\u001b[1;32m     33\u001b[0m \u001b[39mfrom\u001b[39;00m \u001b[39mtensorflow\u001b[39;00m\u001b[39m.\u001b[39;00m\u001b[39mpython\u001b[39;00m\u001b[39m.\u001b[39;00m\u001b[39mops\u001b[39;00m \u001b[39mimport\u001b[39;00m tensor_array_ops\n\u001b[0;32m---> 34\u001b[0m \u001b[39mfrom\u001b[39;00m \u001b[39mtensorflow\u001b[39;00m\u001b[39m.\u001b[39;00m\u001b[39mpython\u001b[39;00m\u001b[39m.\u001b[39;00m\u001b[39mops\u001b[39;00m\u001b[39m.\u001b[39;00m\u001b[39mragged\u001b[39;00m \u001b[39mimport\u001b[39;00m ragged_tensor\n\u001b[1;32m     35\u001b[0m \u001b[39mfrom\u001b[39;00m \u001b[39mtensorflow\u001b[39;00m\u001b[39m.\u001b[39;00m\u001b[39mpython\u001b[39;00m\u001b[39m.\u001b[39;00m\u001b[39mplatform\u001b[39;00m \u001b[39mimport\u001b[39;00m tf_logging \u001b[39mas\u001b[39;00m logging\n\u001b[1;32m     36\u001b[0m \u001b[39mfrom\u001b[39;00m \u001b[39mtensorflow\u001b[39;00m\u001b[39m.\u001b[39;00m\u001b[39mpython\u001b[39;00m\u001b[39m.\u001b[39;00m\u001b[39mutil\u001b[39;00m \u001b[39mimport\u001b[39;00m deprecation\n",
      "File \u001b[0;32m/opt/anaconda3/envs/hopp/lib/python3.8/site-packages/tensorflow/python/ops/ragged/ragged_tensor.py:28\u001b[0m\n\u001b[1;32m     25\u001b[0m \u001b[39mimport\u001b[39;00m \u001b[39mnumpy\u001b[39;00m \u001b[39mas\u001b[39;00m \u001b[39mnp\u001b[39;00m\n\u001b[1;32m     27\u001b[0m \u001b[39mfrom\u001b[39;00m \u001b[39mtensorflow\u001b[39;00m\u001b[39m.\u001b[39;00m\u001b[39mpython\u001b[39;00m \u001b[39mimport\u001b[39;00m tf2\n\u001b[0;32m---> 28\u001b[0m \u001b[39mfrom\u001b[39;00m \u001b[39mtensorflow\u001b[39;00m\u001b[39m.\u001b[39;00m\u001b[39mpython\u001b[39;00m\u001b[39m.\u001b[39;00m\u001b[39mclient\u001b[39;00m \u001b[39mimport\u001b[39;00m session\n\u001b[1;32m     29\u001b[0m \u001b[39mfrom\u001b[39;00m \u001b[39mtensorflow\u001b[39;00m\u001b[39m.\u001b[39;00m\u001b[39mpython\u001b[39;00m\u001b[39m.\u001b[39;00m\u001b[39mframework\u001b[39;00m \u001b[39mimport\u001b[39;00m composite_tensor\n\u001b[1;32m     30\u001b[0m \u001b[39mfrom\u001b[39;00m \u001b[39mtensorflow\u001b[39;00m\u001b[39m.\u001b[39;00m\u001b[39mpython\u001b[39;00m\u001b[39m.\u001b[39;00m\u001b[39mframework\u001b[39;00m \u001b[39mimport\u001b[39;00m constant_op\n",
      "File \u001b[0;32m/opt/anaconda3/envs/hopp/lib/python3.8/site-packages/tensorflow/python/client/session.py:42\u001b[0m\n\u001b[1;32m     40\u001b[0m \u001b[39mfrom\u001b[39;00m \u001b[39mtensorflow\u001b[39;00m\u001b[39m.\u001b[39;00m\u001b[39mpython\u001b[39;00m\u001b[39m.\u001b[39;00m\u001b[39mops\u001b[39;00m \u001b[39mimport\u001b[39;00m session_ops\n\u001b[1;32m     41\u001b[0m \u001b[39mfrom\u001b[39;00m \u001b[39mtensorflow\u001b[39;00m\u001b[39m.\u001b[39;00m\u001b[39mpython\u001b[39;00m\u001b[39m.\u001b[39;00m\u001b[39mplatform\u001b[39;00m \u001b[39mimport\u001b[39;00m tf_logging \u001b[39mas\u001b[39;00m logging\n\u001b[0;32m---> 42\u001b[0m \u001b[39mfrom\u001b[39;00m \u001b[39mtensorflow\u001b[39;00m\u001b[39m.\u001b[39;00m\u001b[39mpython\u001b[39;00m\u001b[39m.\u001b[39;00m\u001b[39mtraining\u001b[39;00m\u001b[39m.\u001b[39;00m\u001b[39mexperimental\u001b[39;00m \u001b[39mimport\u001b[39;00m mixed_precision_global_state\n\u001b[1;32m     43\u001b[0m \u001b[39mfrom\u001b[39;00m \u001b[39mtensorflow\u001b[39;00m\u001b[39m.\u001b[39;00m\u001b[39mpython\u001b[39;00m\u001b[39m.\u001b[39;00m\u001b[39mutil\u001b[39;00m \u001b[39mimport\u001b[39;00m compat\n\u001b[1;32m     44\u001b[0m \u001b[39mfrom\u001b[39;00m \u001b[39mtensorflow\u001b[39;00m\u001b[39m.\u001b[39;00m\u001b[39mpython\u001b[39;00m\u001b[39m.\u001b[39;00m\u001b[39mutil\u001b[39;00m \u001b[39mimport\u001b[39;00m nest\n",
      "File \u001b[0;32m<frozen importlib._bootstrap>:991\u001b[0m, in \u001b[0;36m_find_and_load\u001b[0;34m(name, import_)\u001b[0m\n",
      "File \u001b[0;32m<frozen importlib._bootstrap>:975\u001b[0m, in \u001b[0;36m_find_and_load_unlocked\u001b[0;34m(name, import_)\u001b[0m\n",
      "File \u001b[0;32m<frozen importlib._bootstrap>:671\u001b[0m, in \u001b[0;36m_load_unlocked\u001b[0;34m(spec)\u001b[0m\n",
      "File \u001b[0;32m<frozen importlib._bootstrap_external>:839\u001b[0m, in \u001b[0;36mexec_module\u001b[0;34m(self, module)\u001b[0m\n",
      "File \u001b[0;32m<frozen importlib._bootstrap_external>:934\u001b[0m, in \u001b[0;36mget_code\u001b[0;34m(self, fullname)\u001b[0m\n",
      "File \u001b[0;32m<frozen importlib._bootstrap_external>:1032\u001b[0m, in \u001b[0;36mget_data\u001b[0;34m(self, path)\u001b[0m\n",
      "\u001b[0;31mKeyboardInterrupt\u001b[0m: "
     ]
    }
   ],
   "source": [
    "from hopp.simulation import HoppInterface\n",
    "import numpy as np\n",
    "\n",
    "hi = HoppInterface(\"./inputs/08-GSPE.yaml\")\n",
    "hi.simulate(30)\n",
    "\n",
    "print(\"simulation complete\")"
   ]
  },
  {
   "cell_type": "markdown",
   "metadata": {},
   "source": [
    "## Work on implementing new power electronic efficencies according to the GSPE code\n",
    "\n",
    "1) revert efficency factors applied in HOPP"
   ]
  },
  {
   "cell_type": "code",
   "execution_count": null,
   "metadata": {},
   "outputs": [],
   "source": [
    "with hi.hopp.system.technologies['wind'] as wp:\n",
    "        DEFAULT_PYSAM_LOSSES = 12.83\n",
    "        wp.system_model.gen = wp.system_model.gen * ((100 - DEFAULT_PYSAM_LOSSES)/100) ** -1 # revert PySAM default losses\n",
    "        wp.system_model.annual_energy = np.sum(wp.system_model.gen)\n",
    "        wp.system_model.capacity_factor = np.sum(wp.system_model.gen) / (8760 * wp.system_model.system_capacity) * 100\n",
    "\n",
    "    else: # wp.config.model_name == 'pysam'\n",
    "        pass"
   ]
  },
  {
   "cell_type": "markdown",
   "metadata": {},
   "source": [
    "2) calculate losses according to GSPE code"
   ]
  },
  {
   "cell_type": "code",
   "execution_count": 6,
   "metadata": {},
   "outputs": [],
   "source": [
    "eff = {'back_to_back': 0.9604,\n",
    "       'diode_based_rectifier': 0.96,\n",
    "       'thyristor_based_rectifier': 0.992,\n",
    "       'IGBT_based_inverter': 0.98,\n",
    "       'bi_DCDC_converter': 0.985,\n",
    "       'uni_DCDC_converter': 0.985,\n",
    "       'transformer_up': 0.99,\n",
    "       'transformer_down': 0.99,\n",
    "       'rectifier_power_factor': 0.89,\n",
    "       'transformer_power_factor': 0.85,\n",
    "       }\n",
    "\n",
    "# TODO instead of \"gutting\" the code, could package the file and then use as module\n",
    "\n",
    "DFIG_DC_1_eff = (1 - ((1 - eff['back_to_back']) / 3)) * eff['transformer_up'] * \\\n",
    "               eff['diode_based_rectifier'] * eff['uni_DCDC_converter'] * 100\n",
    "\n",
    "# DFIG_DC_2_eff = (1 - ((1 - eff['back_to_back']) / 3)) * eff['transformer_up'] * \\\n",
    "#                eff['diode_based_rectifier'] * eff['uni_DCDC_converter'] * 100\n",
    "\n",
    "# seems to be same efficency for both cfgs\n",
    "\n",
    "# TODO apply the above efficency to the powers in the HI\n",
    "# TODO this is done after the hopp simulaiton is complete, meaning any \n",
    "# costs assoicated with the power generation are going to have to be recalculated...\n",
    "# not sure if there is a better way of doing this without completely changing HOPP\n",
    "\n"
   ]
  }
 ],
 "metadata": {
  "kernelspec": {
   "display_name": "hopp",
   "language": "python",
   "name": "python3"
  },
  "language_info": {
   "codemirror_mode": {
    "name": "ipython",
    "version": 3
   },
   "file_extension": ".py",
   "mimetype": "text/x-python",
   "name": "python",
   "nbconvert_exporter": "python",
   "pygments_lexer": "ipython3",
   "version": "3.8.15"
  }
 },
 "nbformat": 4,
 "nbformat_minor": 2
}
