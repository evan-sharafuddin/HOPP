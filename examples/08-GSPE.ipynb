{
 "cells": [
  {
   "cell_type": "markdown",
   "metadata": {},
   "source": [
    "# GSPE Example File\n",
    "This notebook runs HOPP and applies the correct power electronics efficency factors established in the Green Steel Power Electronics (GSPE) simulator\n",
    "\n",
    "NOTE: all of the economic analysis will use the efficency factors that are default in PySAM/set in HOPP. The goal of this script is to solely return a power time series with the correct efficency factors."
   ]
  },
  {
   "cell_type": "code",
   "execution_count": null,
   "metadata": {},
   "outputs": [],
   "source": [
    "from hopp.simulation import HoppInterface\n",
    "import numpy as np\n",
    "\n",
    "hi = HoppInterface('./inputs/08-GSPE.yaml')\n",
    "\n",
    "print ('HOPP interface created...')"
   ]
  },
  {
   "cell_type": "markdown",
   "metadata": {},
   "source": [
    "## Efficencies from ORNL code"
   ]
  },
  {
   "cell_type": "code",
   "execution_count": null,
   "metadata": {},
   "outputs": [],
   "source": [
    "eff = {'back_to_back': 0.9604,\n",
    "       'diode_based_rectifier': 0.96,\n",
    "       'thyristor_based_rectifier': 0.992,\n",
    "       'IGBT_based_inverter': 0.98,\n",
    "       'bi_DCDC_converter': 0.985,\n",
    "       'uni_DCDC_converter': 0.985,\n",
    "       'transformer_up': 0.99,\n",
    "       'transformer_down': 0.99,\n",
    "       'rectifier_power_factor': 0.89,\n",
    "       'transformer_power_factor': 0.85,\n",
    "       } # from ORNL code\n"
   ]
  },
  {
   "cell_type": "markdown",
   "metadata": {},
   "source": [
    "## Change wind and solar efficency factors before calling simulate\n",
    "### **NOTE:** links to documentation are included\n",
    "\n",
    "See below for losses that are changed\n",
    "* [list of wind losses](https://nrel-pysam.readthedocs.io/en/main/modules/Windpower.html#PySAM.Windpower.Windpower.Losses)\n",
    "    - avail_bop_loss\n",
    "    - avail_grid_loss\n",
    "    - avail_turb_loss\n",
    "    - elec_eff_loss \n",
    "        - ***CHANGING THIS***\n",
    "    - elec_parasitic_loss\n",
    "    - env_degrad_loss\n",
    "    - env_env_loss\n",
    "    - env_exposure_loss\n",
    "    - env_icing_loss\n",
    "    - ops_env_loss\n",
    "    - ops_grid_loss\n",
    "    - ops_load_loss\n",
    "    - ops_strategies_loss\n",
    "\n",
    "* [PV losses](https://nrel-pysam.readthedocs.io/en/main/modules/Pvwattsv8.html#systemdesign-group) \n",
    "    - dc_ac_ratio?\n",
    "    - inv_eff\n",
    "        - ***CHANGING THIS***\n",
    "    - losses (other DC losses)?\n",
    "    - xfmr_ll and xfmr_nll (related to GSU -- generator step up -- losses)?\n",
    "        - both are set to zero when the model runs so I'm ignoring these\n",
    "    \n",
    "* [Battery losses](https://nrel-pysam.readthedocs.io/en/main/modules/BatteryStateful.html#paramspack-group)\n",
    "    - All applicable losses in ParamsPack group are set to zero \n",
    "        - monthly_charge_losses \n",
    "        - monthly_discharge_losses\n",
    "        - monthly_idle_loss\n",
    "    - the only PE losses that are applied seem to be charge_power and discharge_power in `technologies['battery'].dispatch`\n",
    "        - ***CHANGING THESE***\n",
    "### TODO\n",
    "- what do these two losses include in dispatch? Is it just PE or does it include battery specific stuff?\n",
    "    - these values seem to originate from `hopp/system/technologies/dispatch/power_storage/power_storage_dispatch.py`, line 94\n",
    "    - are there really no power losses applied in the battery `_system_model`?"
   ]
  },
  {
   "cell_type": "code",
   "execution_count": null,
   "metadata": {},
   "outputs": [],
   "source": [
    "wind = hi.hopp.system.technologies['wind']\n",
    "if wind.config.model_name == 'floris':\n",
    "    raise NotImplementedError('Losses are hard coded into FLORIS, need to change PE losses retroactively')\n",
    "\n",
    "else: # model is pysam\n",
    "    wind._system_model.Losses.elec_eff_loss = 0 # will add transformer losses with the combined wind/solar stream\n",
    "\n",
    "pv = hi.hopp.system.technologies['pv']\n",
    "pv._system_model.SystemDesign.inv_eff = eff['IGBT_based_inverter'] * 1e2 # percent\n",
    "\n",
    "battery = hi.hopp.system.technologies['battery']\n",
    "\n",
    "battery.dispatch.charge_efficiency = eff['bi_DCDC_converter']\n",
    "battery.dispatch.discharge_efficiency = eff['bi_DCDC_converter']"
   ]
  },
  {
   "cell_type": "code",
   "execution_count": null,
   "metadata": {},
   "outputs": [],
   "source": [
    "print('Starting simulation...')\n",
    "\n",
    "hi.simulate(30)\n",
    "\n",
    "gen = dict()\n",
    "# NOTE only want time series for a year, not 30 years\n",
    "gen['wind'] = hi.system.technologies['wind'].generation_profile[:8760]\n",
    "gen['pv'] = hi.system.technologies['pv'].generation_profile[:8760]\n",
    "gen['battery'] = hi.system.technologies['battery'].generation_profile\n",
    "\n",
    "print('Simulation complete...')"
   ]
  },
  {
   "cell_type": "markdown",
   "metadata": {},
   "source": [
    "\n",
    "### NOTE ignoring the below code because correct losses should be applied"
   ]
  },
  {
   "cell_type": "code",
   "execution_count": null,
   "metadata": {},
   "outputs": [],
   "source": [
    "# gen, annual_energy, capacity_factor = dict(), dict(),  dict()\n",
    "\n",
    "# # wind\n",
    "# wm = hi.hopp.system.technologies['wind']._system_model\n",
    "\n",
    "# if hi.hopp.system.technologies['wind'].config.model_name == 'floris':\n",
    "#     DEFAULT_PYSAM_LOSSES = 12.83\n",
    "#     gen['wind'] = wm.gen * ((100 - DEFAULT_PYSAM_LOSSES)/100) ** -1 # revert PySAM default losses\n",
    "#     annual_energy['wind'] = np.sum(gen['wind'])\n",
    "#     capacity_factor['wind'] = annual_energy['wind'] / (8760 * wm.system_capacity) * 100\n",
    "\n",
    "# else: # wm.config.model_name == 'pysam'\n",
    "#     non_wake_losses = 0\n",
    "#     pysam_losses_dict = wm.export()['Losses']\n",
    "\n",
    "#     # NOTE the below losses add to 12.83\n",
    "#     relevant_losses = ['avail_bop_loss', 'avail_grid_loss', 'avail_turb_loss', 'elec_eff_loss', 'elec_parasitic_loss', \n",
    "#                         'env_degrad_loss', 'env_env_loss', 'env_exposure_loss', 'env_icing_loss', 'ops_env_loss', \n",
    "#                         'ops_grid_loss', 'ops_load_loss', 'ops_strategies_loss']\n",
    "    \n",
    "#     for losses in relevant_losses:\n",
    "#         non_wake_losses += pysam_losses_dict[losses]\n",
    "    \n",
    "#     gen['wind'] = [i * ((100 - non_wake_losses)/100)**-1 for i in wm.Outputs.gen][:8760]\n",
    "#     annual_energy['wind'] = np.sum(gen['wind'])\n",
    "#     capacity_factor['wind'] = annual_energy['wind'] / (8760 * wm.Farm.system_capacity) * 100\n",
    "\n",
    "# # solar\n",
    "# pvm = hi.hopp.system.technologies['pv']._system_model\n",
    "\n",
    "# pysam_losses = ((100 - pvm.SystemDesign.inv_eff) + pvm.SystemDesign.losses) / 100 # TODO dont undo losses\n",
    "\n",
    "# gen['pv'] = [i * 1e-3 for i in pvm.Outputs.dc] # pvm.Outputs.dc in W, convert to kW (dc power should be without losses applied)\n",
    "# annual_energy['pv'] = np.sum(gen['pv']) # hourly time series, result is in kWh\n",
    "# capacity_factor['pv'] = annual_energy['pv'] / (8760 * pvm.SystemDesign.system_capacity) * 100 # system capacity in kWh\n",
    "\n",
    "# # battery\n",
    "# # TODO assuming that battery never charges and discharges at the same time during any hour timestep\n",
    "# battery = hi.hopp.system.technologies['battery']\n",
    "\n",
    "# # NOTE negative powers coorespond to charging the battery\n",
    "# gen['battery'] = [p * battery.dispatch.charge_efficiency / 1e3 if p < 0 \\\n",
    "#                   else p * battery.dispatch.discharge_efficiency / 1e3 \\\n",
    "#                   for p in battery.generation_profile]\n",
    "\n",
    "# annual_energy['battery'] = np.sum(gen['battery'])\n",
    "# capacity_factor['battery'] = annual_energy['battery'] / (8760 * battery.system_capacity_kw) * 100\n",
    "\n",
    "# print('done')"
   ]
  },
  {
   "cell_type": "markdown",
   "metadata": {},
   "source": [
    "## calculate losses according to GSPE code (reference situation: DEFIG - H AC Coupled System 1)\n",
    "\n",
    "*A few notes...*\n",
    "* summing together wind and solar time series (TS) before the up-transformer\n",
    "* applying down-transformer and rectifier losses to the combined power TS\n",
    "* can extract power going in/out of the battery -- can then apply the relevant in/out power losses with the DC/DC converter"
   ]
  },
  {
   "cell_type": "code",
   "execution_count": null,
   "metadata": {},
   "outputs": [],
   "source": [
    "source_after_up_transformer = (np.array(gen['wind']) * eff['transformer_up']) + (np.array(gen['pv']) * eff['transformer_up']) # TODO\n",
    "source_after_rectifier = (np.array(gen['wind']) + np.array(gen['pv'])) \\\n",
    "                       * eff['transformer_up'] * eff['transformer_down'] * eff['diode_based_rectifier']\n",
    "\n",
    "battery_charging = np.array([-p * eff['bi_DCDC_converter'] if p < 0.0 else 0.0 for p in gen['battery']])\n",
    "battery_discharging = np.array([p * eff['bi_DCDC_converter'] if p > 0.0 else 0.0 for p in gen['battery']])\n",
    "\n",
    "power_to_electrolyzer = source_after_rectifier + battery_discharging - battery_charging\n",
    "\n",
    "print('Done!')"
   ]
  },
  {
   "cell_type": "markdown",
   "metadata": {},
   "source": [
    "## Some plots\n",
    "\n",
    "### TODO\n",
    "* why is the power to electrolyzer going negative? Why is the battery charging when there is no source power? \n",
    "    * do I have the units of the battery wrong? Seems like they are all in kW and it looks accurate\n",
    "* not really sure how the battery dispatch works, so I could be interpreting it wrong"
   ]
  },
  {
   "cell_type": "code",
   "execution_count": null,
   "metadata": {},
   "outputs": [],
   "source": [
    "import matplotlib.pyplot as plt \n",
    "\n",
    "# Change these below values to adjust the time frame you are looking at for the graph\n",
    "start, end = 0, 100\n",
    "time_steps = list(range(start, end))\n",
    "\n",
    "# Plot the power values against the time steps\n",
    "plt.figure(figsize=(10, 6))  # Adjust the figure size as needed\n",
    "plt.plot(time_steps, [i for i in power_to_electrolyzer[start:end]], label='Power to electrolyzer') # divide by 10 so can view all the values on one set of axes\n",
    "plt.plot(time_steps, [i for i in source_after_rectifier[start:end]],label='Source power (wind, pv)')\n",
    "plt.plot(time_steps, battery_charging[start:end], label='Battery charge power')\n",
    "plt.plot(time_steps, battery_discharging[start:end], label='Battery discharge power')\n",
    "plt.title('Power Values Over Time')\n",
    "plt.xlabel('Time (h)')\n",
    "plt.ylabel('Power (W)')\n",
    "plt.legend()\n",
    "plt.grid(True)\n",
    "plt.show()"
   ]
  }
 ],
 "metadata": {
  "kernelspec": {
   "display_name": "hopp",
   "language": "python",
   "name": "python3"
  },
  "language_info": {
   "codemirror_mode": {
    "name": "ipython",
    "version": 3
   },
   "file_extension": ".py",
   "mimetype": "text/x-python",
   "name": "python",
   "nbconvert_exporter": "python",
   "pygments_lexer": "ipython3",
   "version": "3.8.15"
  }
 },
 "nbformat": 4,
 "nbformat_minor": 2
}
