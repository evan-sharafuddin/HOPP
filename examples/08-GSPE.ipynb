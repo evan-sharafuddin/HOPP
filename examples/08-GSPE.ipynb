{
 "cells": [
  {
   "cell_type": "markdown",
   "metadata": {},
   "source": [
    "# GSPE Example File\n",
    "This notebook runs HOPP and applies the correct power electronics efficency factors established in the Green Steel Power Electronics (GSPE) simulator\n",
    "\n",
    "NOTE: all of the economic analysis will use the efficency factors that are default in PySAM/set in HOPP. The goal of this script is to solely return a power time series with teh correct efficency factors."
   ]
  },
  {
   "cell_type": "code",
   "execution_count": 2,
   "metadata": {},
   "outputs": [
    {
     "name": "stdout",
     "output_type": "stream",
     "text": [
      "simulation complete\n"
     ]
    }
   ],
   "source": [
    "from hopp.simulation import HoppInterface\n",
    "import numpy as np\n",
    "\n",
    "hi = HoppInterface(\"./inputs/08-GSPE.yaml\")\n",
    "hi.simulate(30)\n",
    "\n",
    "\n",
    "\n",
    "print(\"simulation complete\")"
   ]
  },
  {
   "cell_type": "markdown",
   "metadata": {},
   "source": [
    "## Work on implementing new power electronic efficencies according to the GSPE code\n",
    "\n",
    "1) revert efficency factors applied in HOPP"
   ]
  },
  {
   "cell_type": "code",
   "execution_count": null,
   "metadata": {},
   "outputs": [],
   "source": [
    "gen, annual_energy, capacity_factor = dict()\n",
    "\n",
    "with hi.hopp.system.technologies['wind']._system_model as wp:\n",
    "    if wp.model_name == 'floris':\n",
    "        DEFAULT_PYSAM_LOSSES = 12.83\n",
    "        gen['wind'] = wp.gen * ((100 - DEFAULT_PYSAM_LOSSES)/100) ** -1 # revert PySAM default losses\n",
    "        annual_energy['wind'] = np.sum(wp.gen)\n",
    "        capacity_factor['wind'] = np.sum(wp.gen) / (8760 * wp.system_capacity) * 100\n",
    "\n",
    "    else: # wp.config.model_name == 'pysam'\n",
    "        non_wake_losses = 0\n",
    "        pysam_losses_dict = wp.export()\n",
    "        relevant_losses = ['avail_bop_loss', 'avail_grid_loss', 'avail_turb_loss', 'elec_eff_loss', 'elec_parasitic_loss', \n",
    "                           'env_degrad_loss', 'env_env_loss', 'env_exposure_loss', 'env_icing_loss', 'ops_env_loss', \n",
    "                           'ops_grid_loss', 'ops_load_loss', 'ops_strategies_loss']\n",
    "        \n",
    "        for losses in relevant_losses:\n",
    "            non_wake_losses += pysam_losses_dict[losses]\n",
    "        \n",
    "        gen['wind'] = wp.system_model.gen * ((100 - non_wake_losses)/100) ** -1 \n",
    "        annual_energy['wind'] = np.sum(wp.gen)\n",
    "        capacity_factor['wind'] = np.sum(wp.gen) / (8760 * wp.system_capacity) * 100\n",
    "\n",
    "with hi.hopp.system.technologies['pv']._system_model as pv:\n",
    "    pysam_losses = ((100 - pv.SystemDesign.inv_eff) + pv.SystemDesign.losses) / 100\n",
    "\n",
    "    gen['pv'] = pv.ac * pysam_losses ** -1\n",
    "    annual_energy['pv'] = np.sum(gen['pv'])\n",
    "    capacity_factor['pv'] = np.sum(gen['pv']) / (8760 * pv.SystemDesign.system_capacity) * 100\n",
    "    \n",
    "with hi.hopp.system.technologies['battery'] as battery:\n",
    "    gen['battery'] = battery.generation_profile\n",
    "    annual_energy['battery'] = np.sum(gen['battery'])\n",
    "    capacity_factor['battery'] = np.sum(gen['battery']) / (8760 * battery.system_capacity_kw) * 100\n",
    "\n"
   ]
  },
  {
   "cell_type": "markdown",
   "metadata": {},
   "source": [
    "2) calculate losses according to GSPE code"
   ]
  },
  {
   "cell_type": "code",
   "execution_count": null,
   "metadata": {},
   "outputs": [],
   "source": [
    "eff = {'back_to_back': 0.9604,\n",
    "       'diode_based_rectifier': 0.96,\n",
    "       'thyristor_based_rectifier': 0.992,\n",
    "       'IGBT_based_inverter': 0.98,\n",
    "       'bi_DCDC_converter': 0.985,\n",
    "       'uni_DCDC_converter': 0.985,\n",
    "       'transformer_up': 0.99,\n",
    "       'transformer_down': 0.99,\n",
    "       'rectifier_power_factor': 0.89,\n",
    "       'transformer_power_factor': 0.85,\n",
    "       }\n",
    "\n",
    "# TODO instead of \"gutting\" the code, could package the file and then use as module\n",
    "DFIG_AC_1_eff_wind = eff['transformer_up'] * eff['transformer_down'] * eff['diode_based_rectifier'] * 100 # TODO excluding battery losses here... is that what I am supposed to do?\n",
    "DFIG_AC_1_eff_solar = eff['IGBT_based_inverter'] * eff['transformer_down'] * eff['diode_based_rectifier'] * 100 \n",
    "DFIG_AC_1_eff_battery = eff['bi_DCDC_converter'] * 100 # assuming bi-directional... is this right?\n",
    "\n",
    "efficencies = {'wind': DFIG_AC_1_eff_wind, 'pv': DFIG_AC_1_eff_solar, 'battery': DFIG_AC_1_eff_battery}\n",
    "\n",
    "# apply each of the efficencies\n",
    "for d in [gen, annual_energy, capacity_factor]:\n",
    "       for k in d.keys(): \n",
    "              d[k] = d[k] * efficencies[k]\n",
    "\n",
    "\n",
    "\n",
    "# TODO apply the above efficency to the powers in the HI\n",
    "# TODO this is done after the hopp simulaiton is complete, meaning any \n",
    "# costs assoicated with the power generation are going to have to be recalculated...\n",
    "# not sure if there is a better way of doing this without completely changing HOPP\n",
    "\n"
   ]
  }
 ],
 "metadata": {
  "kernelspec": {
   "display_name": "hopp",
   "language": "python",
   "name": "python3"
  },
  "language_info": {
   "codemirror_mode": {
    "name": "ipython",
    "version": 3
   },
   "file_extension": ".py",
   "mimetype": "text/x-python",
   "name": "python",
   "nbconvert_exporter": "python",
   "pygments_lexer": "ipython3",
   "version": "3.8.15"
  }
 },
 "nbformat": 4,
 "nbformat_minor": 2
}
