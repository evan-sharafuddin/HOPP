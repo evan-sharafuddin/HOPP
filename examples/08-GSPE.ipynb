{
 "cells": [
  {
   "cell_type": "markdown",
   "metadata": {},
   "source": [
    "# GSPE Example File\n",
    "This notebook runs HOPP and applies the correct power electronics efficency factors established in the Green Steel Power Electronics (GSPE) simulator\n",
    "\n",
    "NOTE: all of the economic analysis will use the efficency factors that are default in PySAM/set in HOPP. The goal of this script is to solely return a power time series with teh correct efficency factors."
   ]
  },
  {
   "cell_type": "code",
   "execution_count": 5,
   "metadata": {},
   "outputs": [
    {
     "name": "stdout",
     "output_type": "stream",
     "text": [
      "FLORIS is the system model...\n",
      "Simulating wind farm output in FLORIS...\n",
      "Wind annual energy:  71702641.3705228\n",
      "simulation complete\n"
     ]
    }
   ],
   "source": [
    "from hopp.simulation import HoppInterface\n",
    "import numpy as np\n",
    "\n",
    "hi = HoppInterface(\"./inputs/08-GSPE.yaml\")\n",
    "hi.simulate(30)\n",
    "\n",
    "print(\"simulation complete\")"
   ]
  },
  {
   "cell_type": "markdown",
   "metadata": {},
   "source": [
    "## Work on implementing new power electronic efficencies according to the GSPE code\n",
    "\n",
    "1) revert efficency factors applied in HOPP"
   ]
  },
  {
   "cell_type": "code",
   "execution_count": 9,
   "metadata": {},
   "outputs": [
    {
     "name": "stdout",
     "output_type": "stream",
     "text": [
      "done\n"
     ]
    }
   ],
   "source": [
    "gen, annual_energy, capacity_factor = dict(), dict(),  dict()\n",
    "\n",
    "# wind\n",
    "wm = hi.hopp.system.technologies['wind']._system_model\n",
    "\n",
    "if hi.hopp.system.technologies['wind'].config.model_name == 'floris':\n",
    "    DEFAULT_PYSAM_LOSSES = 12.83\n",
    "    gen['wind'] = wm.gen * ((100 - DEFAULT_PYSAM_LOSSES)/100) ** -1 # revert PySAM default losses\n",
    "    annual_energy['wind'] = np.sum(gen['wind'])\n",
    "    capacity_factor['wind'] = annual_energy['wind'] / (8760 * wm.system_capacity) * 100\n",
    "\n",
    "else: # wm.config.model_name == 'pysam'\n",
    "    non_wake_losses = 0\n",
    "    pysam_losses_dict = wm.export()['Losses']\n",
    "\n",
    "    relevant_losses = ['avail_bop_loss', 'avail_grid_loss', 'avail_turb_loss', 'elec_eff_loss', 'elec_parasitic_loss', \n",
    "                        'env_degrad_loss', 'env_env_loss', 'env_exposure_loss', 'env_icing_loss', 'ops_env_loss', \n",
    "                        'ops_grid_loss', 'ops_load_loss', 'ops_strategies_loss']\n",
    "    \n",
    "    for losses in relevant_losses:\n",
    "        non_wake_losses += pysam_losses_dict[losses]\n",
    "    \n",
    "    gen['wind'] = [i * ((100 - non_wake_losses)/100)**-1 for i in wm.Outputs.gen][:8760]\n",
    "    annual_energy['wind'] = np.sum(gen['wind'])\n",
    "    capacity_factor['wind'] = annual_energy['wind'] / (8760 * wm.Farm.system_capacity) * 100\n",
    "\n",
    "# solar\n",
    "pvm = hi.hopp.system.technologies['pv']._system_model\n",
    "\n",
    "pysam_losses = ((100 - pvm.SystemDesign.inv_eff) + pvm.SystemDesign.losses) / 100\n",
    "\n",
    "gen['pv'] = [i * 1e-3 for i in pvm.Outputs.dc] # pvm.Outputs.dc in W, convert to kW (dc power should be without losses applied)\n",
    "annual_energy['pv'] = np.sum(gen['pv']) # hourly time series, result is in kWh\n",
    "capacity_factor['pv'] = annual_energy['pv'] / (8760 * pvm.SystemDesign.system_capacity) * 100 # system capacity in kWh\n",
    "\n",
    "# battery\n",
    "# TODO what efficencies do I revert for battery?\n",
    "battery = hi.hopp.system.technologies['battery']\n",
    "\n",
    "gen['battery'] = battery.generation_profile\n",
    "annual_energy['battery'] = np.sum(gen['battery']) # same as battery.annual_energy_kwh... \n",
    "capacity_factor['battery'] = annual_energy['battery'] / (8760 * battery.system_capacity_kw) * 100\n",
    "\n",
    "print('done')\n"
   ]
  },
  {
   "cell_type": "markdown",
   "metadata": {},
   "source": [
    "2) calculate losses according to GSPE code"
   ]
  },
  {
   "cell_type": "code",
   "execution_count": 8,
   "metadata": {},
   "outputs": [
    {
     "ename": "KeyboardInterrupt",
     "evalue": "",
     "output_type": "error",
     "traceback": [
      "\u001b[0;31m---------------------------------------------------------------------------\u001b[0m",
      "\u001b[0;31mKeyboardInterrupt\u001b[0m                         Traceback (most recent call last)",
      "\u001b[1;32m/Users/esharafu/Dev/HOPP/examples/08-GSPE.ipynb Cell 6\u001b[0m line \u001b[0;36m2\n\u001b[1;32m     <a href='vscode-notebook-cell:/Users/esharafu/Dev/HOPP/examples/08-GSPE.ipynb#W5sZmlsZQ%3D%3D?line=24'>25</a>\u001b[0m               \u001b[39melse\u001b[39;00m:\n\u001b[1;32m     <a href='vscode-notebook-cell:/Users/esharafu/Dev/HOPP/examples/08-GSPE.ipynb#W5sZmlsZQ%3D%3D?line=25'>26</a>\u001b[0m                      d[k] \u001b[39m=\u001b[39m [i \u001b[39m*\u001b[39m efficencies[k] \u001b[39mfor\u001b[39;00m i \u001b[39min\u001b[39;00m d[k]]\n\u001b[0;32m---> <a href='vscode-notebook-cell:/Users/esharafu/Dev/HOPP/examples/08-GSPE.ipynb#W5sZmlsZQ%3D%3D?line=28'>29</a>\u001b[0m \u001b[39mprint\u001b[39;49m(\u001b[39m'\u001b[39m\u001b[39mdone\u001b[39m\u001b[39m'\u001b[39m)\n\u001b[1;32m     <a href='vscode-notebook-cell:/Users/esharafu/Dev/HOPP/examples/08-GSPE.ipynb#W5sZmlsZQ%3D%3D?line=29'>30</a>\u001b[0m \u001b[39m# TODO apply the above efficency to the powers in the HI\u001b[39;00m\n\u001b[1;32m     <a href='vscode-notebook-cell:/Users/esharafu/Dev/HOPP/examples/08-GSPE.ipynb#W5sZmlsZQ%3D%3D?line=30'>31</a>\u001b[0m \u001b[39m# TODO this is done after the hopp simulaiton is complete, meaning any \u001b[39;00m\n\u001b[1;32m     <a href='vscode-notebook-cell:/Users/esharafu/Dev/HOPP/examples/08-GSPE.ipynb#W5sZmlsZQ%3D%3D?line=31'>32</a>\u001b[0m \u001b[39m# costs assoicated with the power generation are going to have to be recalculated...\u001b[39;00m\n\u001b[1;32m     <a href='vscode-notebook-cell:/Users/esharafu/Dev/HOPP/examples/08-GSPE.ipynb#W5sZmlsZQ%3D%3D?line=32'>33</a>\u001b[0m \u001b[39m# not sure if there is a better way of doing this without completely changing HOPP\u001b[39;00m\n",
      "\u001b[1;32m/Users/esharafu/Dev/HOPP/examples/08-GSPE.ipynb Cell 6\u001b[0m line \u001b[0;36m2\n\u001b[1;32m     <a href='vscode-notebook-cell:/Users/esharafu/Dev/HOPP/examples/08-GSPE.ipynb#W5sZmlsZQ%3D%3D?line=24'>25</a>\u001b[0m               \u001b[39melse\u001b[39;00m:\n\u001b[1;32m     <a href='vscode-notebook-cell:/Users/esharafu/Dev/HOPP/examples/08-GSPE.ipynb#W5sZmlsZQ%3D%3D?line=25'>26</a>\u001b[0m                      d[k] \u001b[39m=\u001b[39m [i \u001b[39m*\u001b[39m efficencies[k] \u001b[39mfor\u001b[39;00m i \u001b[39min\u001b[39;00m d[k]]\n\u001b[0;32m---> <a href='vscode-notebook-cell:/Users/esharafu/Dev/HOPP/examples/08-GSPE.ipynb#W5sZmlsZQ%3D%3D?line=28'>29</a>\u001b[0m \u001b[39mprint\u001b[39;49m(\u001b[39m'\u001b[39m\u001b[39mdone\u001b[39m\u001b[39m'\u001b[39m)\n\u001b[1;32m     <a href='vscode-notebook-cell:/Users/esharafu/Dev/HOPP/examples/08-GSPE.ipynb#W5sZmlsZQ%3D%3D?line=29'>30</a>\u001b[0m \u001b[39m# TODO apply the above efficency to the powers in the HI\u001b[39;00m\n\u001b[1;32m     <a href='vscode-notebook-cell:/Users/esharafu/Dev/HOPP/examples/08-GSPE.ipynb#W5sZmlsZQ%3D%3D?line=30'>31</a>\u001b[0m \u001b[39m# TODO this is done after the hopp simulaiton is complete, meaning any \u001b[39;00m\n\u001b[1;32m     <a href='vscode-notebook-cell:/Users/esharafu/Dev/HOPP/examples/08-GSPE.ipynb#W5sZmlsZQ%3D%3D?line=31'>32</a>\u001b[0m \u001b[39m# costs assoicated with the power generation are going to have to be recalculated...\u001b[39;00m\n\u001b[1;32m     <a href='vscode-notebook-cell:/Users/esharafu/Dev/HOPP/examples/08-GSPE.ipynb#W5sZmlsZQ%3D%3D?line=32'>33</a>\u001b[0m \u001b[39m# not sure if there is a better way of doing this without completely changing HOPP\u001b[39;00m\n",
      "File \u001b[0;32m_pydevd_bundle/pydevd_cython.pyx:1457\u001b[0m, in \u001b[0;36m_pydevd_bundle.pydevd_cython.SafeCallWrapper.__call__\u001b[0;34m()\u001b[0m\n",
      "File \u001b[0;32m_pydevd_bundle/pydevd_cython.pyx:701\u001b[0m, in \u001b[0;36m_pydevd_bundle.pydevd_cython.PyDBFrame.trace_dispatch\u001b[0;34m()\u001b[0m\n",
      "File \u001b[0;32m_pydevd_bundle/pydevd_cython.pyx:1152\u001b[0m, in \u001b[0;36m_pydevd_bundle.pydevd_cython.PyDBFrame.trace_dispatch\u001b[0;34m()\u001b[0m\n",
      "File \u001b[0;32m_pydevd_bundle/pydevd_cython.pyx:1135\u001b[0m, in \u001b[0;36m_pydevd_bundle.pydevd_cython.PyDBFrame.trace_dispatch\u001b[0;34m()\u001b[0m\n",
      "File \u001b[0;32m_pydevd_bundle/pydevd_cython.pyx:312\u001b[0m, in \u001b[0;36m_pydevd_bundle.pydevd_cython.PyDBFrame.do_wait_suspend\u001b[0;34m()\u001b[0m\n",
      "File \u001b[0;32m/opt/anaconda3/envs/hopp/lib/python3.8/site-packages/debugpy/_vendored/pydevd/pydevd.py:2070\u001b[0m, in \u001b[0;36mPyDB.do_wait_suspend\u001b[0;34m(self, thread, frame, event, arg, exception_type)\u001b[0m\n\u001b[1;32m   2067\u001b[0m             from_this_thread\u001b[39m.\u001b[39mappend(frame_custom_thread_id)\n\u001b[1;32m   2069\u001b[0m     \u001b[39mwith\u001b[39;00m \u001b[39mself\u001b[39m\u001b[39m.\u001b[39m_threads_suspended_single_notification\u001b[39m.\u001b[39mnotify_thread_suspended(thread_id, thread, stop_reason):\n\u001b[0;32m-> 2070\u001b[0m         keep_suspended \u001b[39m=\u001b[39m \u001b[39mself\u001b[39;49m\u001b[39m.\u001b[39;49m_do_wait_suspend(thread, frame, event, arg, suspend_type, from_this_thread, frames_tracker)\n\u001b[1;32m   2072\u001b[0m frames_list \u001b[39m=\u001b[39m \u001b[39mNone\u001b[39;00m\n\u001b[1;32m   2074\u001b[0m \u001b[39mif\u001b[39;00m keep_suspended:\n\u001b[1;32m   2075\u001b[0m     \u001b[39m# This means that we should pause again after a set next statement.\u001b[39;00m\n",
      "File \u001b[0;32m/opt/anaconda3/envs/hopp/lib/python3.8/site-packages/debugpy/_vendored/pydevd/pydevd.py:2106\u001b[0m, in \u001b[0;36mPyDB._do_wait_suspend\u001b[0;34m(self, thread, frame, event, arg, suspend_type, from_this_thread, frames_tracker)\u001b[0m\n\u001b[1;32m   2103\u001b[0m         \u001b[39mself\u001b[39m\u001b[39m.\u001b[39m_call_input_hook()\n\u001b[1;32m   2105\u001b[0m     \u001b[39mself\u001b[39m\u001b[39m.\u001b[39mprocess_internal_commands()\n\u001b[0;32m-> 2106\u001b[0m     time\u001b[39m.\u001b[39;49msleep(\u001b[39m0.01\u001b[39;49m)\n\u001b[1;32m   2108\u001b[0m \u001b[39mself\u001b[39m\u001b[39m.\u001b[39mcancel_async_evaluation(get_current_thread_id(thread), \u001b[39mstr\u001b[39m(\u001b[39mid\u001b[39m(frame)))\n\u001b[1;32m   2110\u001b[0m \u001b[39m# process any stepping instructions\u001b[39;00m\n",
      "\u001b[0;31mKeyboardInterrupt\u001b[0m: "
     ]
    }
   ],
   "source": [
    "eff = {'back_to_back': 0.9604,\n",
    "       'diode_based_rectifier': 0.96,\n",
    "       'thyristor_based_rectifier': 0.992,\n",
    "       'IGBT_based_inverter': 0.98,\n",
    "       'bi_DCDC_converter': 0.985,\n",
    "       'uni_DCDC_converter': 0.985,\n",
    "       'transformer_up': 0.99,\n",
    "       'transformer_down': 0.99,\n",
    "       'rectifier_power_factor': 0.89,\n",
    "       'transformer_power_factor': 0.85,\n",
    "       }\n",
    "\n",
    "# TODO instead of \"gutting\" the code, could package the file and then use as module\n",
    "DFIG_AC_1_eff_wind = eff['transformer_up'] * eff['transformer_down'] * eff['diode_based_rectifier'] # TODO excluding battery losses here... is that what I am supposed to do?\n",
    "DFIG_AC_1_eff_solar = eff['IGBT_based_inverter'] * eff['transformer_down'] * eff['diode_based_rectifier'] \n",
    "DFIG_AC_1_eff_battery = eff['bi_DCDC_converter'] # assuming bi-directional... is this right?\n",
    "\n",
    "efficencies = {'wind': DFIG_AC_1_eff_wind, 'pv': DFIG_AC_1_eff_solar, 'battery': DFIG_AC_1_eff_battery}\n",
    "\n",
    "# apply each of the efficencies\n",
    "for d in [gen, annual_energy, capacity_factor]:\n",
    "       for k in d.keys(): \n",
    "              if type(d[k]) == np.float64:\n",
    "                     d[k] = d[k] * efficencies[k]\n",
    "              else:\n",
    "                     d[k] = [i * efficencies[k] for i in d[k]]\n",
    "\n",
    "\n",
    "print('done')\n",
    "# TODO apply the above efficency to the powers in the HI\n",
    "# TODO this is done after the hopp simulaiton is complete, meaning any \n",
    "# costs assoicated with the power generation are going to have to be recalculated...\n",
    "# not sure if there is a better way of doing this without completely changing HOPP\n",
    "\n"
   ]
  }
 ],
 "metadata": {
  "kernelspec": {
   "display_name": "hopp",
   "language": "python",
   "name": "python3"
  },
  "language_info": {
   "codemirror_mode": {
    "name": "ipython",
    "version": 3
   },
   "file_extension": ".py",
   "mimetype": "text/x-python",
   "name": "python",
   "nbconvert_exporter": "python",
   "pygments_lexer": "ipython3",
   "version": "3.8.15"
  }
 },
 "nbformat": 4,
 "nbformat_minor": 2
}
