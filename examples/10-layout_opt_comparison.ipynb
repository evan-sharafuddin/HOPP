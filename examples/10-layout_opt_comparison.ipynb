{
 "cells": [
  {
   "cell_type": "markdown",
   "metadata": {},
   "source": [
    "## Comparison of AEP and H2 Production Objectives for Layout Optimization"
   ]
  },
  {
   "cell_type": "code",
   "execution_count": 1,
   "metadata": {},
   "outputs": [
    {
     "name": "stdout",
     "output_type": "stream",
     "text": [
      "/Users/esharafu/Dev/HOPP/examples/log/hybrid_systems_2024-01-17T16.48.34.658392.log\n"
     ]
    }
   ],
   "source": [
    "from hopp.simulation import HoppInterface"
   ]
  },
  {
   "cell_type": "markdown",
   "metadata": {},
   "source": [
    "### Both yaml files have the following parameters in common\n",
    "* 15 turbines\n",
    "* same starting plant layout (meaning poisson disc will generate same layout)\n",
    "* same turbine rating (although that doesn't really matter at this point)\n",
    "\n",
    "### Starting Layout\n",
    "```\n",
    "[[  -0.        ,    0.       ],\n",
    "[-261.93745641,   63.54064822],\n",
    "[-174.4145812 ,  334.70010726],\n",
    "[-194.04801576, -249.94265741],\n",
    "[-512.89305887,  -55.83678709],\n",
    "[  18.24825093, -444.85998742],\n",
    "[ 249.51658782,  208.38592074],\n",
    "[-548.20257257,  265.93945736],\n",
    "[-394.69411682, -433.58099045],\n",
    "[ 438.3440821 ,  468.60843433]]\n"
   ]
  },
  {
   "cell_type": "markdown",
   "metadata": {},
   "source": [
    "### AEP Objective "
   ]
  },
  {
   "cell_type": "code",
   "execution_count": 2,
   "metadata": {},
   "outputs": [
    {
     "name": "stdout",
     "output_type": "stream",
     "text": [
      "FLORIS is the system model...\n",
      "Performing layout optimization using WPGNN...\n"
     ]
    },
    {
     "ename": "FileNotFoundError",
     "evalue": "[Errno 2] Unable to open file (unable to open file: name = 'examples/inputs/wpgnn/wpgnn.h5', errno = 2, error message = 'No such file or directory', flags = 0, o_flags = 0)",
     "output_type": "error",
     "traceback": [
      "\u001b[0;31m---------------------------------------------------------------------------\u001b[0m",
      "\u001b[0;31mFileNotFoundError\u001b[0m                         Traceback (most recent call last)",
      "\u001b[1;32m/Users/esharafu/Dev/HOPP/examples/10-layout_opt_comparison.ipynb Cell 5\u001b[0m line \u001b[0;36m1\n\u001b[0;32m----> <a href='vscode-notebook-cell:/Users/esharafu/Dev/HOPP/examples/10-layout_opt_comparison.ipynb#W4sZmlsZQ%3D%3D?line=0'>1</a>\u001b[0m hi \u001b[39m=\u001b[39m HoppInterface(\u001b[39m\"\u001b[39;49m\u001b[39m./inputs/layout_opt/example_opt_aep.yaml\u001b[39;49m\u001b[39m\"\u001b[39;49m)\n",
      "File \u001b[0;32m~/Dev/HOPP/hopp/simulation/hopp_interface.py:40\u001b[0m, in \u001b[0;36mHoppInterface.__init__\u001b[0;34m(self, configuration)\u001b[0m\n\u001b[1;32m     37\u001b[0m \u001b[39mself\u001b[39m\u001b[39m.\u001b[39mconfiguration \u001b[39m=\u001b[39m configuration\n\u001b[1;32m     39\u001b[0m \u001b[39mif\u001b[39;00m \u001b[39misinstance\u001b[39m(\u001b[39mself\u001b[39m\u001b[39m.\u001b[39mconfiguration, (\u001b[39mstr\u001b[39m, Path)):\n\u001b[0;32m---> 40\u001b[0m     \u001b[39mself\u001b[39m\u001b[39m.\u001b[39mhopp \u001b[39m=\u001b[39m Hopp\u001b[39m.\u001b[39;49mfrom_file(\u001b[39mself\u001b[39;49m\u001b[39m.\u001b[39;49mconfiguration)\n\u001b[1;32m     42\u001b[0m \u001b[39melif\u001b[39;00m \u001b[39misinstance\u001b[39m(\u001b[39mself\u001b[39m\u001b[39m.\u001b[39mconfiguration, \u001b[39mdict\u001b[39m):\n\u001b[1;32m     43\u001b[0m     \u001b[39mself\u001b[39m\u001b[39m.\u001b[39mhopp \u001b[39m=\u001b[39m Hopp\u001b[39m.\u001b[39mfrom_dict(\u001b[39mself\u001b[39m\u001b[39m.\u001b[39mconfiguration)\n",
      "File \u001b[0;32m~/Dev/HOPP/hopp/simulation/hopp.py:69\u001b[0m, in \u001b[0;36mHopp.from_file\u001b[0;34m(cls, input_file_path, filetype)\u001b[0m\n\u001b[1;32m     67\u001b[0m \u001b[39melse\u001b[39;00m:\n\u001b[1;32m     68\u001b[0m     \u001b[39mraise\u001b[39;00m \u001b[39mValueError\u001b[39;00m(\u001b[39m\"\u001b[39m\u001b[39mSupported import filetype is YAML\u001b[39m\u001b[39m\"\u001b[39m)\n\u001b[0;32m---> 69\u001b[0m \u001b[39mreturn\u001b[39;00m Hopp\u001b[39m.\u001b[39;49mfrom_dict(input_dict)\n",
      "File \u001b[0;32m~/Dev/HOPP/hopp/type_dec.py:187\u001b[0m, in \u001b[0;36mFromDictMixin.from_dict\u001b[0;34m(cls, data)\u001b[0m\n\u001b[1;32m    185\u001b[0m \u001b[39mif\u001b[39;00m undefined:\n\u001b[1;32m    186\u001b[0m     \u001b[39mraise\u001b[39;00m \u001b[39mAttributeError\u001b[39;00m(\u001b[39mf\u001b[39m\u001b[39m\"\u001b[39m\u001b[39mThe class defintion for \u001b[39m\u001b[39m{\u001b[39;00m\u001b[39mcls\u001b[39m\u001b[39m.\u001b[39m\u001b[39m__name__\u001b[39m\u001b[39m}\u001b[39;00m\u001b[39m is missing the following inputs: \u001b[39m\u001b[39m{\u001b[39;00mundefined\u001b[39m}\u001b[39;00m\u001b[39m\"\u001b[39m)\n\u001b[0;32m--> 187\u001b[0m \u001b[39mreturn\u001b[39;00m \u001b[39mcls\u001b[39;49m(\u001b[39m*\u001b[39;49m\u001b[39m*\u001b[39;49mkwargs)\n",
      "File \u001b[0;32m<attrs generated init hopp.simulation.hopp.Hopp>:7\u001b[0m, in \u001b[0;36m__init__\u001b[0;34m(self, site, technologies, name, config)\u001b[0m\n\u001b[1;32m      5\u001b[0m _setattr(\u001b[39m'\u001b[39m\u001b[39mname\u001b[39m\u001b[39m'\u001b[39m, __attr_converter_name(name))\n\u001b[1;32m      6\u001b[0m _setattr(\u001b[39m'\u001b[39m\u001b[39mconfig\u001b[39m\u001b[39m'\u001b[39m, config)\n\u001b[0;32m----> 7\u001b[0m \u001b[39mself\u001b[39;49m\u001b[39m.\u001b[39;49m__attrs_post_init__()\n",
      "File \u001b[0;32m~/Dev/HOPP/hopp/simulation/hopp.py:33\u001b[0m, in \u001b[0;36mHopp.__attrs_post_init__\u001b[0;34m(self)\u001b[0m\n\u001b[1;32m     29\u001b[0m     site \u001b[39m=\u001b[39m \u001b[39mself\u001b[39m\u001b[39m.\u001b[39msite\n\u001b[1;32m     31\u001b[0m tech_config \u001b[39m=\u001b[39m TechnologiesConfig\u001b[39m.\u001b[39mfrom_dict(\u001b[39mself\u001b[39m\u001b[39m.\u001b[39mtechnologies)\n\u001b[0;32m---> 33\u001b[0m \u001b[39mself\u001b[39m\u001b[39m.\u001b[39msystem \u001b[39m=\u001b[39m HybridSimulation(\n\u001b[1;32m     34\u001b[0m     site,\n\u001b[1;32m     35\u001b[0m     tech_config,\n\u001b[1;32m     36\u001b[0m     \u001b[39mself\u001b[39;49m\u001b[39m.\u001b[39;49mconfig\u001b[39m.\u001b[39;49mget(\u001b[39m\"\u001b[39;49m\u001b[39mdispatch_options\u001b[39;49m\u001b[39m\"\u001b[39;49m),\n\u001b[1;32m     37\u001b[0m     \u001b[39mself\u001b[39;49m\u001b[39m.\u001b[39;49mconfig\u001b[39m.\u001b[39;49mget(\u001b[39m\"\u001b[39;49m\u001b[39mcost_info\u001b[39;49m\u001b[39m\"\u001b[39;49m),\n\u001b[1;32m     38\u001b[0m     \u001b[39mself\u001b[39;49m\u001b[39m.\u001b[39;49mconfig\u001b[39m.\u001b[39;49mget(\u001b[39m\"\u001b[39;49m\u001b[39msimulation_options\u001b[39;49m\u001b[39m\"\u001b[39;49m),\n\u001b[1;32m     39\u001b[0m )\n",
      "File \u001b[0;32m<attrs generated init hopp.simulation.hybrid_simulation.HybridSimulation>:14\u001b[0m, in \u001b[0;36m__init__\u001b[0;34m(self, site, tech_config, dispatch_options, cost_info, simulation_options)\u001b[0m\n\u001b[1;32m     12\u001b[0m \u001b[39mself\u001b[39m\u001b[39m.\u001b[39mbattery \u001b[39m=\u001b[39m attr_dict[\u001b[39m'\u001b[39m\u001b[39mbattery\u001b[39m\u001b[39m'\u001b[39m]\u001b[39m.\u001b[39mdefault\n\u001b[1;32m     13\u001b[0m \u001b[39mself\u001b[39m\u001b[39m.\u001b[39mgrid \u001b[39m=\u001b[39m attr_dict[\u001b[39m'\u001b[39m\u001b[39mgrid\u001b[39m\u001b[39m'\u001b[39m]\u001b[39m.\u001b[39mdefault\n\u001b[0;32m---> 14\u001b[0m \u001b[39mself\u001b[39;49m\u001b[39m.\u001b[39;49m__attrs_post_init__()\n",
      "File \u001b[0;32m~/Dev/HOPP/hopp/simulation/hybrid_simulation.py:216\u001b[0m, in \u001b[0;36mHybridSimulation.__attrs_post_init__\u001b[0;34m(self)\u001b[0m\n\u001b[1;32m    213\u001b[0m wind_config \u001b[39m=\u001b[39m \u001b[39mself\u001b[39m\u001b[39m.\u001b[39mtech_config\u001b[39m.\u001b[39mwind\n\u001b[1;32m    215\u001b[0m \u001b[39mif\u001b[39;00m wind_config \u001b[39mis\u001b[39;00m \u001b[39mnot\u001b[39;00m \u001b[39mNone\u001b[39;00m:\n\u001b[0;32m--> 216\u001b[0m     \u001b[39mself\u001b[39m\u001b[39m.\u001b[39mwind \u001b[39m=\u001b[39m WindPlant(\u001b[39mself\u001b[39;49m\u001b[39m.\u001b[39;49msite, config\u001b[39m=\u001b[39;49mwind_config)\n\u001b[1;32m    217\u001b[0m     \u001b[39mself\u001b[39m\u001b[39m.\u001b[39mtechnologies[\u001b[39m\"\u001b[39m\u001b[39mwind\u001b[39m\u001b[39m\"\u001b[39m] \u001b[39m=\u001b[39m \u001b[39mself\u001b[39m\u001b[39m.\u001b[39mwind\n\u001b[1;32m    219\u001b[0m     logger\u001b[39m.\u001b[39minfo(\u001b[39m\"\u001b[39m\u001b[39mCreated HybridSystem.wind with system size \u001b[39m\u001b[39m{}\u001b[39;00m\u001b[39m mW\u001b[39m\u001b[39m\"\u001b[39m\u001b[39m.\u001b[39mformat(wind_config))\n",
      "File \u001b[0;32m<attrs generated init hopp.simulation.technologies.wind.wind_plant.WindPlant>:5\u001b[0m, in \u001b[0;36m__init__\u001b[0;34m(self, site, config)\u001b[0m\n\u001b[1;32m      3\u001b[0m \u001b[39mself\u001b[39m\u001b[39m.\u001b[39mconfig \u001b[39m=\u001b[39m config\n\u001b[1;32m      4\u001b[0m \u001b[39mself\u001b[39m\u001b[39m.\u001b[39mconfig_name \u001b[39m=\u001b[39m attr_dict[\u001b[39m'\u001b[39m\u001b[39mconfig_name\u001b[39m\u001b[39m'\u001b[39m]\u001b[39m.\u001b[39mdefault\n\u001b[0;32m----> 5\u001b[0m \u001b[39mself\u001b[39;49m\u001b[39m.\u001b[39;49m__attrs_post_init__()\n",
      "File \u001b[0;32m~/Dev/HOPP/hopp/simulation/technologies/wind/wind_plant.py:108\u001b[0m, in \u001b[0;36mWindPlant.__attrs_post_init__\u001b[0;34m(self)\u001b[0m\n\u001b[1;32m    106\u001b[0m \u001b[39mif\u001b[39;00m \u001b[39mself\u001b[39m\u001b[39m.\u001b[39mconfig\u001b[39m.\u001b[39mlayout_opt \u001b[39mis\u001b[39;00m \u001b[39mnot\u001b[39;00m \u001b[39mNone\u001b[39;00m:\n\u001b[1;32m    107\u001b[0m     \u001b[39mprint\u001b[39m(\u001b[39m'\u001b[39m\u001b[39mPerforming layout optimization using WPGNN...\u001b[39m\u001b[39m'\u001b[39m)\n\u001b[0;32m--> 108\u001b[0m     optimizer \u001b[39m=\u001b[39m LayoutOptFactory\u001b[39m.\u001b[39;49mcreate_optimizer(\u001b[39mself\u001b[39;49m\u001b[39m.\u001b[39;49msite, \u001b[39mself\u001b[39;49m\u001b[39m.\u001b[39;49mconfig)\n\u001b[1;32m    109\u001b[0m     \u001b[39mself\u001b[39m\u001b[39m.\u001b[39mconfig\u001b[39m.\u001b[39mturbine_locations \u001b[39m=\u001b[39m optimizer\u001b[39m.\u001b[39mopt(\u001b[39m*\u001b[39m\u001b[39m*\u001b[39m\u001b[39mself\u001b[39m\u001b[39m.\u001b[39mconfig\u001b[39m.\u001b[39mopt_options)\n\u001b[1;32m    111\u001b[0m system_model \u001b[39m=\u001b[39m Floris(\u001b[39mself\u001b[39m\u001b[39m.\u001b[39msite, \u001b[39mself\u001b[39m\u001b[39m.\u001b[39mconfig)\n",
      "File \u001b[0;32m~/Dev/HOPP/hopp/simulation/technologies/wind/layout_opt_interface.py:321\u001b[0m, in \u001b[0;36mLayoutOptFactory.create_optimizer\u001b[0;34m(site, wind_config)\u001b[0m\n\u001b[1;32m    319\u001b[0m \u001b[39mfor\u001b[39;00m o, c \u001b[39min\u001b[39;00m LayoutOptFactory\u001b[39m.\u001b[39mSUPPORTED_OBJECTIVES\u001b[39m.\u001b[39mitems():\n\u001b[1;32m    320\u001b[0m     \u001b[39mif\u001b[39;00m objective \u001b[39m==\u001b[39m o:\n\u001b[0;32m--> 321\u001b[0m         \u001b[39mreturn\u001b[39;00m c(site, wind_config)\n\u001b[1;32m    323\u001b[0m \u001b[39mraise\u001b[39;00m \u001b[39mNotImplementedError\u001b[39;00m(\u001b[39mf\u001b[39m\u001b[39m\"\u001b[39m\u001b[39mThe objective \u001b[39m\u001b[39m{\u001b[39;00mobjective\u001b[39m}\u001b[39;00m\u001b[39m is not currently implemented. Perhaps you made a typo?\u001b[39m\u001b[39m\"\u001b[39m)\n",
      "File \u001b[0;32m<attrs generated init hopp.simulation.technologies.wind.layout_opt_aep.LayoutOptAEP>:5\u001b[0m, in \u001b[0;36m__init__\u001b[0;34m(self, site, plant_config, ti)\u001b[0m\n\u001b[1;32m      3\u001b[0m \u001b[39mself\u001b[39m\u001b[39m.\u001b[39mplant_config \u001b[39m=\u001b[39m plant_config\n\u001b[1;32m      4\u001b[0m \u001b[39mself\u001b[39m\u001b[39m.\u001b[39mti \u001b[39m=\u001b[39m ti\n\u001b[0;32m----> 5\u001b[0m \u001b[39mself\u001b[39;49m\u001b[39m.\u001b[39;49m__attrs_post_init__()\n",
      "File \u001b[0;32m~/Dev/HOPP/hopp/simulation/technologies/wind/layout_opt_interface.py:72\u001b[0m, in \u001b[0;36mLayoutOptInterface.__attrs_post_init__\u001b[0;34m(self)\u001b[0m\n\u001b[1;32m     69\u001b[0m \u001b[39mdef\u001b[39;00m \u001b[39m__attrs_post_init__\u001b[39m(\u001b[39mself\u001b[39m):\n\u001b[1;32m     70\u001b[0m \u001b[39m    \u001b[39m\u001b[39m'''Initialize the remaining variables'''\u001b[39;00m\n\u001b[0;32m---> 72\u001b[0m     \u001b[39mself\u001b[39m\u001b[39m.\u001b[39mmodel \u001b[39m=\u001b[39m WPGNN(model_path\u001b[39m=\u001b[39;49m\u001b[39mself\u001b[39;49m\u001b[39m.\u001b[39;49mplant_config\u001b[39m.\u001b[39;49mwpgnn_model)\n\u001b[1;32m     74\u001b[0m     \u001b[39m# TODO use config dict to set these parameters instead of hard coding\u001b[39;00m\n\u001b[1;32m     75\u001b[0m     \u001b[39mself\u001b[39m\u001b[39m.\u001b[39mdomain \u001b[39m=\u001b[39m np\u001b[39m.\u001b[39marray([[\u001b[39m-\u001b[39m\u001b[39m1000.\u001b[39m, \u001b[39m1000.\u001b[39m],\n\u001b[1;32m     76\u001b[0m                        [\u001b[39m-\u001b[39m\u001b[39m1000.\u001b[39m, \u001b[39m1000.\u001b[39m]])\n",
      "File \u001b[0;32m/opt/anaconda3/envs/hopp/lib/python3.8/site-packages/sonnet/src/base.py:120\u001b[0m, in \u001b[0;36mModuleMetaclass.__call__\u001b[0;34m(cls, *args, **kwargs)\u001b[0m\n\u001b[1;32m    118\u001b[0m \u001b[39m# Now attempt to initialize the object.\u001b[39;00m\n\u001b[1;32m    119\u001b[0m \u001b[39mtry\u001b[39;00m:\n\u001b[0;32m--> 120\u001b[0m   module\u001b[39m.\u001b[39;49m\u001b[39m__init__\u001b[39;49m(\u001b[39m*\u001b[39;49margs, \u001b[39m*\u001b[39;49m\u001b[39m*\u001b[39;49mkwargs)\n\u001b[1;32m    121\u001b[0m \u001b[39mfinally\u001b[39;00m:\n\u001b[1;32m    122\u001b[0m   exc_info \u001b[39m=\u001b[39m sys\u001b[39m.\u001b[39mexc_info()\n",
      "File \u001b[0;32m/opt/anaconda3/envs/hopp/lib/python3.8/site-packages/wpgnn/wpgnn.py:66\u001b[0m, in \u001b[0;36mWPGNN.__init__\u001b[0;34m(self, eN, nN, gN, graph_size, scale_factors, model_path, name)\u001b[0m\n\u001b[1;32m     64\u001b[0m \u001b[39m# Load save model weights\u001b[39;00m\n\u001b[1;32m     65\u001b[0m \u001b[39mif\u001b[39;00m model_path \u001b[39mis\u001b[39;00m \u001b[39mnot\u001b[39;00m \u001b[39mNone\u001b[39;00m:\n\u001b[0;32m---> 66\u001b[0m     \u001b[39mself\u001b[39;49m\u001b[39m.\u001b[39;49mcustom_load_weights(model_path)\n\u001b[1;32m     68\u001b[0m \u001b[39mif\u001b[39;00m scale_factors \u001b[39mis\u001b[39;00m \u001b[39mNone\u001b[39;00m:\n\u001b[1;32m     69\u001b[0m     \u001b[39mself\u001b[39m\u001b[39m.\u001b[39mscale_factors \u001b[39m=\u001b[39m {\u001b[39m'\u001b[39m\u001b[39mx_globals\u001b[39m\u001b[39m'\u001b[39m: np\u001b[39m.\u001b[39marray([[\u001b[39m0.\u001b[39m, \u001b[39m25.\u001b[39m], [\u001b[39m0.\u001b[39m, \u001b[39m25.\u001b[39m], [\u001b[39m0.09\u001b[39m, \u001b[39m0.03\u001b[39m]]),\n\u001b[1;32m     70\u001b[0m                             \u001b[39m'\u001b[39m\u001b[39mx_nodes\u001b[39m\u001b[39m'\u001b[39m: np\u001b[39m.\u001b[39marray([[\u001b[39m0.\u001b[39m, \u001b[39m75000.\u001b[39m], [\u001b[39m0.\u001b[39m, \u001b[39m85000.\u001b[39m], [\u001b[39m15.\u001b[39m, \u001b[39m15.\u001b[39m]]),\n\u001b[1;32m     71\u001b[0m                             \u001b[39m'\u001b[39m\u001b[39mx_edges\u001b[39m\u001b[39m'\u001b[39m: np\u001b[39m.\u001b[39marray([[\u001b[39m-\u001b[39m\u001b[39m100000.\u001b[39m, \u001b[39m100000.\u001b[39m], [\u001b[39m0.\u001b[39m, \u001b[39m75000.\u001b[39m]]),\n\u001b[1;32m     72\u001b[0m                           \u001b[39m'\u001b[39m\u001b[39mf_globals\u001b[39m\u001b[39m'\u001b[39m: np\u001b[39m.\u001b[39marray([[\u001b[39m0.\u001b[39m, \u001b[39m500000000.\u001b[39m], [\u001b[39m0.\u001b[39m, \u001b[39m100000.\u001b[39m]]),\n\u001b[1;32m     73\u001b[0m                             \u001b[39m'\u001b[39m\u001b[39mf_nodes\u001b[39m\u001b[39m'\u001b[39m: np\u001b[39m.\u001b[39marray([[\u001b[39m0.\u001b[39m, \u001b[39m5000000.\u001b[39m], [\u001b[39m0.\u001b[39m,\u001b[39m25.\u001b[39m]]),\n\u001b[1;32m     74\u001b[0m                             \u001b[39m'\u001b[39m\u001b[39mf_edges\u001b[39m\u001b[39m'\u001b[39m: np\u001b[39m.\u001b[39marray([[\u001b[39m0.\u001b[39m, \u001b[39m0.\u001b[39m]])}\n",
      "File \u001b[0;32m/opt/anaconda3/envs/hopp/lib/python3.8/site-packages/sonnet/src/utils.py:85\u001b[0m, in \u001b[0;36mdecorator.<locals>._decorator.<locals>._decorate_unbound_method\u001b[0;34m(self, *args, **kwargs)\u001b[0m\n\u001b[1;32m     83\u001b[0m \u001b[39mdef\u001b[39;00m \u001b[39m_decorate_unbound_method\u001b[39m(\u001b[39mself\u001b[39m, \u001b[39m*\u001b[39margs, \u001b[39m*\u001b[39m\u001b[39m*\u001b[39mkwargs):\n\u001b[1;32m     84\u001b[0m   bound_method \u001b[39m=\u001b[39m f\u001b[39m.\u001b[39m\u001b[39m__get__\u001b[39m(\u001b[39mself\u001b[39m, \u001b[39mself\u001b[39m\u001b[39m.\u001b[39m\u001b[39m__class__\u001b[39m)  \u001b[39m# pytype: disable=attribute-error\u001b[39;00m\n\u001b[0;32m---> 85\u001b[0m   \u001b[39mreturn\u001b[39;00m decorator_fn(bound_method, \u001b[39mself\u001b[39;49m, args, kwargs)\n",
      "File \u001b[0;32m/opt/anaconda3/envs/hopp/lib/python3.8/site-packages/sonnet/src/base.py:262\u001b[0m, in \u001b[0;36mwrap_with_name_scope\u001b[0;34m(method, instance, args, kwargs)\u001b[0m\n\u001b[1;32m    257\u001b[0m   \u001b[39mraise\u001b[39;00m exc_value \u001b[39mfrom\u001b[39;00m \u001b[39mexc_value_from\u001b[39;00m\n\u001b[1;32m    259\u001b[0m \u001b[39mwith\u001b[39;00m module_name_scope:\n\u001b[1;32m    260\u001b[0m   \u001b[39m# snt.Module enters the module name scope for all methods. To disable this\u001b[39;00m\n\u001b[1;32m    261\u001b[0m   \u001b[39m# for a particular method annotate it with `@snt.no_name_scope`.\u001b[39;00m\n\u001b[0;32m--> 262\u001b[0m   \u001b[39mreturn\u001b[39;00m method(\u001b[39m*\u001b[39;49margs, \u001b[39m*\u001b[39;49m\u001b[39m*\u001b[39;49mkwargs)\n",
      "File \u001b[0;32m/opt/anaconda3/envs/hopp/lib/python3.8/site-packages/wpgnn/wpgnn.py:162\u001b[0m, in \u001b[0;36mWPGNN.custom_load_weights\u001b[0;34m(self, filename)\u001b[0m\n\u001b[1;32m    157\u001b[0m \u001b[39mdef\u001b[39;00m \u001b[39mcustom_load_weights\u001b[39m(\u001b[39mself\u001b[39m, filename):\n\u001b[1;32m    158\u001b[0m     all_weights \u001b[39m=\u001b[39m [weight \u001b[39mfor\u001b[39;00m graph_layer \u001b[39min\u001b[39;00m \u001b[39mself\u001b[39m\u001b[39m.\u001b[39mgraph_layers \\\n\u001b[1;32m    159\u001b[0m                           \u001b[39mfor\u001b[39;00m block \u001b[39min\u001b[39;00m graph_layer \\\n\u001b[1;32m    160\u001b[0m                           \u001b[39mfor\u001b[39;00m weight \u001b[39min\u001b[39;00m block\u001b[39m.\u001b[39mtrainable_variables]\n\u001b[0;32m--> 162\u001b[0m     \u001b[39mwith\u001b[39;00m h5py\u001b[39m.\u001b[39;49mFile(filename, \u001b[39m'\u001b[39;49m\u001b[39mr\u001b[39;49m\u001b[39m'\u001b[39;49m) \u001b[39mas\u001b[39;00m f:\n\u001b[1;32m    163\u001b[0m         \u001b[39mfor\u001b[39;00m weight \u001b[39min\u001b[39;00m all_weights:\n\u001b[1;32m    164\u001b[0m             weight\u001b[39m.\u001b[39massign(f[weight\u001b[39m.\u001b[39mname][()])\n",
      "File \u001b[0;32m/opt/anaconda3/envs/hopp/lib/python3.8/site-packages/h5py/_hl/files.py:567\u001b[0m, in \u001b[0;36mFile.__init__\u001b[0;34m(self, name, mode, driver, libver, userblock_size, swmr, rdcc_nslots, rdcc_nbytes, rdcc_w0, track_order, fs_strategy, fs_persist, fs_threshold, fs_page_size, page_buf_size, min_meta_keep, min_raw_keep, locking, alignment_threshold, alignment_interval, meta_block_size, **kwds)\u001b[0m\n\u001b[1;32m    558\u001b[0m     fapl \u001b[39m=\u001b[39m make_fapl(driver, libver, rdcc_nslots, rdcc_nbytes, rdcc_w0,\n\u001b[1;32m    559\u001b[0m                      locking, page_buf_size, min_meta_keep, min_raw_keep,\n\u001b[1;32m    560\u001b[0m                      alignment_threshold\u001b[39m=\u001b[39malignment_threshold,\n\u001b[1;32m    561\u001b[0m                      alignment_interval\u001b[39m=\u001b[39malignment_interval,\n\u001b[1;32m    562\u001b[0m                      meta_block_size\u001b[39m=\u001b[39mmeta_block_size,\n\u001b[1;32m    563\u001b[0m                      \u001b[39m*\u001b[39m\u001b[39m*\u001b[39mkwds)\n\u001b[1;32m    564\u001b[0m     fcpl \u001b[39m=\u001b[39m make_fcpl(track_order\u001b[39m=\u001b[39mtrack_order, fs_strategy\u001b[39m=\u001b[39mfs_strategy,\n\u001b[1;32m    565\u001b[0m                      fs_persist\u001b[39m=\u001b[39mfs_persist, fs_threshold\u001b[39m=\u001b[39mfs_threshold,\n\u001b[1;32m    566\u001b[0m                      fs_page_size\u001b[39m=\u001b[39mfs_page_size)\n\u001b[0;32m--> 567\u001b[0m     fid \u001b[39m=\u001b[39m make_fid(name, mode, userblock_size, fapl, fcpl, swmr\u001b[39m=\u001b[39;49mswmr)\n\u001b[1;32m    569\u001b[0m \u001b[39mif\u001b[39;00m \u001b[39misinstance\u001b[39m(libver, \u001b[39mtuple\u001b[39m):\n\u001b[1;32m    570\u001b[0m     \u001b[39mself\u001b[39m\u001b[39m.\u001b[39m_libver \u001b[39m=\u001b[39m libver\n",
      "File \u001b[0;32m/opt/anaconda3/envs/hopp/lib/python3.8/site-packages/h5py/_hl/files.py:231\u001b[0m, in \u001b[0;36mmake_fid\u001b[0;34m(name, mode, userblock_size, fapl, fcpl, swmr)\u001b[0m\n\u001b[1;32m    229\u001b[0m     \u001b[39mif\u001b[39;00m swmr \u001b[39mand\u001b[39;00m swmr_support:\n\u001b[1;32m    230\u001b[0m         flags \u001b[39m|\u001b[39m\u001b[39m=\u001b[39m h5f\u001b[39m.\u001b[39mACC_SWMR_READ\n\u001b[0;32m--> 231\u001b[0m     fid \u001b[39m=\u001b[39m h5f\u001b[39m.\u001b[39;49mopen(name, flags, fapl\u001b[39m=\u001b[39;49mfapl)\n\u001b[1;32m    232\u001b[0m \u001b[39melif\u001b[39;00m mode \u001b[39m==\u001b[39m \u001b[39m'\u001b[39m\u001b[39mr+\u001b[39m\u001b[39m'\u001b[39m:\n\u001b[1;32m    233\u001b[0m     fid \u001b[39m=\u001b[39m h5f\u001b[39m.\u001b[39mopen(name, h5f\u001b[39m.\u001b[39mACC_RDWR, fapl\u001b[39m=\u001b[39mfapl)\n",
      "File \u001b[0;32mh5py/_objects.pyx:54\u001b[0m, in \u001b[0;36mh5py._objects.with_phil.wrapper\u001b[0;34m()\u001b[0m\n",
      "File \u001b[0;32mh5py/_objects.pyx:55\u001b[0m, in \u001b[0;36mh5py._objects.with_phil.wrapper\u001b[0;34m()\u001b[0m\n",
      "File \u001b[0;32mh5py/h5f.pyx:106\u001b[0m, in \u001b[0;36mh5py.h5f.open\u001b[0;34m()\u001b[0m\n",
      "\u001b[0;31mFileNotFoundError\u001b[0m: [Errno 2] Unable to open file (unable to open file: name = 'examples/inputs/wpgnn/wpgnn.h5', errno = 2, error message = 'No such file or directory', flags = 0, o_flags = 0)"
     ]
    }
   ],
   "source": [
    "hi = HoppInterface(\"./inputs/layout_opt/example_opt_aep.yaml\")"
   ]
  },
  {
   "cell_type": "markdown",
   "metadata": {},
   "source": [
    "### H2 Production Objective"
   ]
  },
  {
   "cell_type": "code",
   "execution_count": null,
   "metadata": {},
   "outputs": [],
   "source": [
    "hi = HoppInterface(\"./inputs/layout_opt/example_opt_h2_prod.yaml\")"
   ]
  }
 ],
 "metadata": {
  "kernelspec": {
   "display_name": "hopp",
   "language": "python",
   "name": "python3"
  },
  "language_info": {
   "codemirror_mode": {
    "name": "ipython",
    "version": 3
   },
   "file_extension": ".py",
   "mimetype": "text/x-python",
   "name": "python",
   "nbconvert_exporter": "python",
   "pygments_lexer": "ipython3",
   "version": "3.8.15"
  }
 },
 "nbformat": 4,
 "nbformat_minor": 2
}
